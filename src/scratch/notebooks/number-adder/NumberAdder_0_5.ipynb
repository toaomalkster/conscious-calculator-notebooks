{
  "nbformat": 4,
  "nbformat_minor": 0,
  "metadata": {
    "colab": {
      "name": "NumberAdder-0.5.ipynb",
      "provenance": [],
      "collapsed_sections": [],
      "toc_visible": true,
      "authorship_tag": "ABX9TyP5WUDDpd6U0KWontNOg/aP",
      "include_colab_link": true
    },
    "kernelspec": {
      "name": "python3",
      "display_name": "Python 3"
    }
  },
  "cells": [
    {
      "cell_type": "markdown",
      "metadata": {
        "id": "view-in-github",
        "colab_type": "text"
      },
      "source": [
        "<a href=\"https://colab.research.google.com/github/toaomalkster/conscious-calculator-notebooks/blob/main/src/scratch/notebooks/number-adder/NumberAdder_0_5.ipynb\" target=\"_parent\"><img src=\"https://colab.research.google.com/assets/colab-badge.svg\" alt=\"Open In Colab\"/></a>"
      ]
    },
    {
      "cell_type": "markdown",
      "metadata": {
        "id": "D7LX96lpBYkT"
      },
      "source": [
        "# Number Adder\n",
        "0.4:\n",
        "* Running model in a loop with feedback\n",
        "* Beginnings of a re-inforcement style loss function:\n",
        "  * Input presented only on first iteration\n",
        "  * Loss measures output nodes only, summed across all iterations.\n",
        "\n",
        "## Background\n",
        "Building up towards a model based on Consciousness V2 theory.\n",
        "\n",
        "## Loss Function Considerations\n",
        "Non-negotiables:\n",
        "* Must produce the correct result at some point\n",
        "* Must not falsely represent the result -- ie: if there is a 'completion' flag, then it must always be close to zero if not outputting the result\n",
        "\n",
        "Fuzzy requirements:\n",
        "* Accuracy is more important than efficiency\n",
        "* Needs to identify 'completion' somehow\n",
        "\n",
        "Ideal optimisation requirements:\n",
        "* Minimise effort to produce result\n",
        "  * Optimises for quicker response times\n",
        "  * Also a protection against infinite loops"
      ]
    },
    {
      "cell_type": "markdown",
      "metadata": {
        "id": "YL5HKtzQRHWg"
      },
      "source": [
        "**App Boilerplate**"
      ]
    },
    {
      "cell_type": "code",
      "metadata": {
        "id": "9ruY3TtqP1gb",
        "outputId": "184d704a-2884-4406-be44-970f7e0ec9a8",
        "colab": {
          "base_uri": "https://localhost:8080/",
          "height": 34
        }
      },
      "source": [
        "\n",
        "# TensorFlow and tf.keras\n",
        "import tensorflow as tf\n",
        "from tensorflow import keras\n",
        "\n",
        "# Helper libraries\n",
        "import numpy as np\n",
        "import matplotlib.pyplot as plt\n",
        "import time\n",
        "\n",
        "print(tf.__version__)\n"
      ],
      "execution_count": null,
      "outputs": [
        {
          "output_type": "stream",
          "text": [
            "2.3.0\n"
          ],
          "name": "stdout"
        }
      ]
    },
    {
      "cell_type": "markdown",
      "metadata": {
        "id": "OuRO0frKRXNG"
      },
      "source": [
        "# Setup Training Data"
      ]
    },
    {
      "cell_type": "code",
      "metadata": {
        "id": "u9uKG-DgmzBj",
        "outputId": "f19bbac1-01ac-4c07-d3ad-9ef141fe3e77",
        "colab": {
          "base_uri": "https://localhost:8080/",
          "height": 187
        }
      },
      "source": [
        "data = np.random.randint(100, size=(1000, 2)).astype('float32')\n",
        "data[0:10,:]"
      ],
      "execution_count": null,
      "outputs": [
        {
          "output_type": "execute_result",
          "data": {
            "text/plain": [
              "array([[26., 39.],\n",
              "       [22., 17.],\n",
              "       [55., 30.],\n",
              "       [87., 86.],\n",
              "       [32., 44.],\n",
              "       [44., 14.],\n",
              "       [85., 40.],\n",
              "       [94., 14.],\n",
              "       [90., 12.],\n",
              "       [26., 18.]], dtype=float32)"
            ]
          },
          "metadata": {
            "tags": []
          },
          "execution_count": 2
        }
      ]
    },
    {
      "cell_type": "code",
      "metadata": {
        "id": "8MFPbop0pOxh",
        "outputId": "e31f1a7c-81ed-4511-fefe-b2f543a5f1d5",
        "colab": {
          "base_uri": "https://localhost:8080/",
          "height": 187
        }
      },
      "source": [
        "data_labels = (data[:,0] + data[:,1])[:,np.newaxis]\n",
        "data_labels[0:10,:]"
      ],
      "execution_count": null,
      "outputs": [
        {
          "output_type": "execute_result",
          "data": {
            "text/plain": [
              "array([[ 65.],\n",
              "       [ 39.],\n",
              "       [ 85.],\n",
              "       [173.],\n",
              "       [ 76.],\n",
              "       [ 58.],\n",
              "       [125.],\n",
              "       [108.],\n",
              "       [102.],\n",
              "       [ 44.]], dtype=float32)"
            ]
          },
          "metadata": {
            "tags": []
          },
          "execution_count": 3
        }
      ]
    },
    {
      "cell_type": "markdown",
      "metadata": {
        "id": "zvA_cusOu2oW"
      },
      "source": [
        "# Setup Model"
      ]
    },
    {
      "cell_type": "code",
      "metadata": {
        "id": "s0FP7IDJu_Yy",
        "outputId": "10e34ead-ff56-4631-af31-bc0068f74561",
        "colab": {
          "base_uri": "https://localhost:8080/",
          "height": 221
        }
      },
      "source": [
        "statusNodes=1\n",
        "outputNodes=1\n",
        "feedbackNodes=5\n",
        "model = keras.Sequential([\n",
        "    keras.layers.InputLayer(input_shape=(2+feedbackNodes,)),\n",
        "    keras.layers.Dense(1000, activation='relu'),\n",
        "    keras.layers.Dense(statusNodes + outputNodes + feedbackNodes)\n",
        "])\n",
        "model.summary()"
      ],
      "execution_count": null,
      "outputs": [
        {
          "output_type": "stream",
          "text": [
            "Model: \"sequential_1\"\n",
            "_________________________________________________________________\n",
            "Layer (type)                 Output Shape              Param #   \n",
            "=================================================================\n",
            "dense_2 (Dense)              (None, 1000)              8000      \n",
            "_________________________________________________________________\n",
            "dense_3 (Dense)              (None, 7)                 7007      \n",
            "=================================================================\n",
            "Total params: 15,007\n",
            "Trainable params: 15,007\n",
            "Non-trainable params: 0\n",
            "_________________________________________________________________\n"
          ],
          "name": "stdout"
        }
      ]
    },
    {
      "cell_type": "markdown",
      "metadata": {
        "id": "wFw_GfVR8i8n"
      },
      "source": [
        "# Setup Training\n",
        "Running equivalent of:\n",
        "```\n",
        "# fitres = model.fit(data, data_labels, validation_split=0.2, shuffle=True, epochs=150)\n",
        "```"
      ]
    },
    {
      "cell_type": "markdown",
      "metadata": {
        "id": "M2h366BcfnHz"
      },
      "source": [
        "Trained to run with loop length 5, and asked to calculate 78 + 14, gives the following sub-results:\n",
        "```\n",
        "(tbd)\n",
        "```\n",
        "And the following final result:\n",
        "```\n",
        "(tbd)\n",
        "```"
      ]
    },
    {
      "cell_type": "code",
      "metadata": {
        "id": "x1X6bUtdwsiu"
      },
      "source": [
        "loss = tf.keras.losses.MeanSquaredError()\n",
        "optimizer = tf.keras.optimizers.Adam(2e-4, beta_1=0.5)\n",
        "\n",
        "@tf.function\n",
        "def multiIterationLoss(y_true, y_preds):\n",
        "  \"\"\"Computes re-inforcement loss across loop execution.\n",
        "\n",
        "  Args:\n",
        "    y_true: Ground truth values.\n",
        "            Expected outcome, without status or feedback nodes.\n",
        "            shape = `[batch_size, d0, .. dN]`.\n",
        "    y_preds: The predicted values across all iterations of the loop.\n",
        "            Excluding feedback nodes.\n",
        "            shape = `[batch_size, loop_size, d0, .. dN]`.\n",
        "\n",
        "  Returns:\n",
        "    Mean absolute error values. shape = `[batch_size, d0, .. dN-1]`.\n",
        "  \"\"\"\n",
        "\n",
        "  # Simple implementation - mse on last iteration\n",
        "  lastPreds = y_preds[..., -1:]\n",
        "  return loss(y_true, lastPreds)\n",
        "\n",
        "@tf.function\n",
        "def compute(inputs, max_loop_length, training=False):\n",
        "  batchSize = inputs.shape[0]\n",
        "  outputs = None\n",
        "  feedback = tf.zeros(shape=(batchSize, feedbackNodes))\n",
        "\n",
        "  for i in range(max_loop_length):\n",
        "    # extend width of inputs with zeroed-out feedback\n",
        "    if i == 0:\n",
        "      inputsWithFeedback = tf.concat([inputs, feedback], axis=1)\n",
        "    else:\n",
        "      zeroedInputs = tf.zeros(shape=inputs.shape)\n",
        "      inputsWithFeedback = tf.concat([zeroedInputs, feedback], axis=1)\n",
        "  \n",
        "    # run model with inputs + feedback nodes\n",
        "    output = model(inputsWithFeedback, training)\n",
        "\n",
        "    # copy feedback for next iteration\n",
        "    feedback = output[:,-feedbackNodes:]\n",
        "\n",
        "    # produce output for records\n",
        "    # (note: doesn't use TF functions so don't re-use any of this for next iteration)\n",
        "    outputWithoutFeedback = output[:,:-feedbackNodes]\n",
        "    if outputs == None:\n",
        "      outputs = outputWithoutFeedback\n",
        "    else:\n",
        "      outputs = tf.concat([outputs, outputWithoutFeedback], axis=tf.rank(output)-1)\n",
        "\n",
        "  return outputs\n",
        "\n",
        "def predict(inputs, max_loop_length, training=False):\n",
        "  # pick last output only\n",
        "  return compute(inputs, max_loop_length, training)[...,-1:]\n",
        "\n",
        "@tf.function\n",
        "def train_step(inputs, expected, max_loop_length):\n",
        "  with tf.GradientTape() as tape:\n",
        "    outputs = compute(inputs, max_loop_length, training=True)\n",
        "\n",
        "    # calculate loss ignoring feedback output\n",
        "    loop_loss = multiIterationLoss(expected, outputs)\n",
        "\n",
        "    # train model\n",
        "    gradients = tape.gradient(loop_loss, model.trainable_variables)\n",
        "    optimizer.apply_gradients(zip(gradients, model.trainable_variables))\n",
        "    return loop_loss"
      ],
      "execution_count": null,
      "outputs": []
    },
    {
      "cell_type": "code",
      "metadata": {
        "id": "eK2xIQ3b_AIM"
      },
      "source": [
        "def fit(train_data, train_labels, epochs, batch_size, max_loop_length):\n",
        "  res = {}\n",
        "  res['loss'] = []\n",
        "\n",
        "  for epoch in range(epochs):\n",
        "    print ('Epoch: {}/{}'.format(epoch+1, epochs))\n",
        "    start = time.time()\n",
        "    sum_loss = 0\n",
        "\n",
        "    # Train in batches\n",
        "    mx = (int(len(train_data)/batch_size))*batch_size\n",
        "    n  = mx/batch_size\n",
        "    print ('[', end='')\n",
        "    for i in range(0, mx, batch_size):\n",
        "      batch_data   = train_data[i:i+batch_size]\n",
        "      batch_labels = train_labels[i:i+batch_size]\n",
        "      sum_loss += train_step(batch_data, batch_labels, max_loop_length)\n",
        "      print ('=', end='')\n",
        "    print('] - {} sec - loss: {}'.format(time.time()-start, sum_loss/n))\n",
        "\n",
        "    # Record history\n",
        "    res['loss'].append(sum_loss/n)\n",
        "\n",
        "  return res"
      ],
      "execution_count": null,
      "outputs": []
    },
    {
      "cell_type": "markdown",
      "metadata": {
        "id": "gJYYVtKz-6b-"
      },
      "source": [
        "# Run Training"
      ]
    },
    {
      "cell_type": "code",
      "metadata": {
        "id": "nLkgvYqGB8wO",
        "outputId": "cf656a51-16af-4b24-ddc5-ac2b9f1a58dd",
        "colab": {
          "base_uri": "https://localhost:8080/",
          "height": 1000
        }
      },
      "source": [
        "fitres = fit(data, data_labels, epochs=150, batch_size=32, max_loop_length=5)"
      ],
      "execution_count": null,
      "outputs": [
        {
          "output_type": "stream",
          "text": [
            "Epoch: 1/150\n",
            "[===============================] - 1.1250157356262207 sec - loss: 11411.986328125\n",
            "Epoch: 2/150\n",
            "[===============================] - 0.06854486465454102 sec - loss: 1316.2462158203125\n",
            "Epoch: 3/150\n",
            "[===============================] - 0.07159185409545898 sec - loss: 10.530560493469238\n",
            "Epoch: 4/150\n",
            "[===============================] - 0.06616520881652832 sec - loss: 5.5740814208984375\n",
            "Epoch: 5/150\n",
            "[===============================] - 0.06700420379638672 sec - loss: 2.6126413345336914\n",
            "Epoch: 6/150\n",
            "[===============================] - 0.06859135627746582 sec - loss: 1.236127495765686\n",
            "Epoch: 7/150\n",
            "[===============================] - 0.06726646423339844 sec - loss: 0.6936963200569153\n",
            "Epoch: 8/150\n",
            "[===============================] - 0.07037186622619629 sec - loss: 0.4579700231552124\n",
            "Epoch: 9/150\n",
            "[===============================] - 0.0720064640045166 sec - loss: 0.331165075302124\n",
            "Epoch: 10/150\n",
            "[===============================] - 0.06828951835632324 sec - loss: 0.25160661339759827\n",
            "Epoch: 11/150\n",
            "[===============================] - 0.07647156715393066 sec - loss: 0.1987670361995697\n",
            "Epoch: 12/150\n",
            "[===============================] - 0.0797574520111084 sec - loss: 0.16206462681293488\n",
            "Epoch: 13/150\n",
            "[===============================] - 0.0663144588470459 sec - loss: 0.13574668765068054\n",
            "Epoch: 14/150\n",
            "[===============================] - 0.06727313995361328 sec - loss: 0.1166110411286354\n",
            "Epoch: 15/150\n",
            "[===============================] - 0.07052230834960938 sec - loss: 0.10254726558923721\n",
            "Epoch: 16/150\n",
            "[===============================] - 0.06731534004211426 sec - loss: 0.0919690653681755\n",
            "Epoch: 17/150\n",
            "[===============================] - 0.07503175735473633 sec - loss: 0.08383303880691528\n",
            "Epoch: 18/150\n",
            "[===============================] - 0.07392048835754395 sec - loss: 0.077489472925663\n",
            "Epoch: 19/150\n",
            "[===============================] - 0.06494998931884766 sec - loss: 0.07245585322380066\n",
            "Epoch: 20/150\n",
            "[===============================] - 0.0695035457611084 sec - loss: 0.06851968169212341\n",
            "Epoch: 21/150\n",
            "[===============================] - 0.07228732109069824 sec - loss: 0.06539779156446457\n",
            "Epoch: 22/150\n",
            "[===============================] - 0.06461119651794434 sec - loss: 0.06287191063165665\n",
            "Epoch: 23/150\n",
            "[===============================] - 0.06511974334716797 sec - loss: 0.06079642474651337\n",
            "Epoch: 24/150\n",
            "[===============================] - 0.07390499114990234 sec - loss: 0.05902228504419327\n",
            "Epoch: 25/150\n",
            "[===============================] - 0.07470321655273438 sec - loss: 0.05747392773628235\n",
            "Epoch: 26/150\n",
            "[===============================] - 0.08018136024475098 sec - loss: 0.0560164637863636\n",
            "Epoch: 27/150\n",
            "[===============================] - 0.07975029945373535 sec - loss: 0.05434909090399742\n",
            "Epoch: 28/150\n",
            "[===============================] - 0.07952880859375 sec - loss: 0.05232361704111099\n",
            "Epoch: 29/150\n",
            "[===============================] - 0.07842826843261719 sec - loss: 0.04982759431004524\n",
            "Epoch: 30/150\n",
            "[===============================] - 0.07198596000671387 sec - loss: 0.04702822118997574\n",
            "Epoch: 31/150\n",
            "[===============================] - 0.07269763946533203 sec - loss: 0.04425434023141861\n",
            "Epoch: 32/150\n",
            "[===============================] - 0.07317018508911133 sec - loss: 0.04199366644024849\n",
            "Epoch: 33/150\n",
            "[===============================] - 0.06822657585144043 sec - loss: 0.041417308151721954\n",
            "Epoch: 34/150\n",
            "[===============================] - 0.06754589080810547 sec - loss: 0.04507744312286377\n",
            "Epoch: 35/150\n",
            "[===============================] - 0.06931400299072266 sec - loss: 0.05878505855798721\n",
            "Epoch: 36/150\n",
            "[===============================] - 0.0713343620300293 sec - loss: 0.09645301848649979\n",
            "Epoch: 37/150\n",
            "[===============================] - 0.07698488235473633 sec - loss: 0.2715362310409546\n",
            "Epoch: 38/150\n",
            "[===============================] - 0.07506895065307617 sec - loss: 2.7202272415161133\n",
            "Epoch: 39/150\n",
            "[===============================] - 0.07346749305725098 sec - loss: 1.308809757232666\n",
            "Epoch: 40/150\n",
            "[===============================] - 0.0851140022277832 sec - loss: 1.9500211477279663\n",
            "Epoch: 41/150\n",
            "[===============================] - 0.07302331924438477 sec - loss: 0.7754303812980652\n",
            "Epoch: 42/150\n",
            "[===============================] - 0.07429909706115723 sec - loss: 4.6975483894348145\n",
            "Epoch: 43/150\n",
            "[===============================] - 0.08165192604064941 sec - loss: 1.231886625289917\n",
            "Epoch: 44/150\n",
            "[===============================] - 0.0771021842956543 sec - loss: 0.6360146999359131\n",
            "Epoch: 45/150\n",
            "[===============================] - 0.07556557655334473 sec - loss: 0.8349100947380066\n",
            "Epoch: 46/150\n",
            "[===============================] - 0.07195043563842773 sec - loss: 6.38122034072876\n",
            "Epoch: 47/150\n",
            "[===============================] - 0.0656728744506836 sec - loss: 0.20723003149032593\n",
            "Epoch: 48/150\n",
            "[===============================] - 0.07010960578918457 sec - loss: 0.269998162984848\n",
            "Epoch: 49/150\n",
            "[===============================] - 0.06411480903625488 sec - loss: 11.037970542907715\n",
            "Epoch: 50/150\n",
            "[===============================] - 0.06699442863464355 sec - loss: 0.4676416516304016\n",
            "Epoch: 51/150\n",
            "[===============================] - 0.07077145576477051 sec - loss: 0.03661293163895607\n",
            "Epoch: 52/150\n",
            "[===============================] - 0.06619524955749512 sec - loss: 0.03657689318060875\n",
            "Epoch: 53/150\n",
            "[===============================] - 0.0648033618927002 sec - loss: 0.09485433250665665\n",
            "Epoch: 54/150\n",
            "[===============================] - 0.07440757751464844 sec - loss: 0.1508880853652954\n",
            "Epoch: 55/150\n",
            "[===============================] - 0.06621289253234863 sec - loss: 17.83077049255371\n",
            "Epoch: 56/150\n",
            "[===============================] - 0.06632208824157715 sec - loss: 0.1674562394618988\n",
            "Epoch: 57/150\n",
            "[===============================] - 0.06834721565246582 sec - loss: 0.02574424259364605\n",
            "Epoch: 58/150\n",
            "[===============================] - 0.06487464904785156 sec - loss: 0.02682492695748806\n",
            "Epoch: 59/150\n",
            "[===============================] - 0.06491303443908691 sec - loss: 0.029094060882925987\n",
            "Epoch: 60/150\n",
            "[===============================] - 0.0700068473815918 sec - loss: 0.03151366114616394\n",
            "Epoch: 61/150\n",
            "[===============================] - 0.07127714157104492 sec - loss: 0.043246377259492874\n",
            "Epoch: 62/150\n",
            "[===============================] - 0.06919360160827637 sec - loss: 0.4376158118247986\n",
            "Epoch: 63/150\n",
            "[===============================] - 0.0691220760345459 sec - loss: 9.36283016204834\n",
            "Epoch: 64/150\n",
            "[===============================] - 0.0653831958770752 sec - loss: 0.6237370371818542\n",
            "Epoch: 65/150\n",
            "[===============================] - 0.06650686264038086 sec - loss: 0.05304064229130745\n",
            "Epoch: 66/150\n",
            "[===============================] - 0.07220840454101562 sec - loss: 0.06792814284563065\n",
            "Epoch: 67/150\n",
            "[===============================] - 0.07014870643615723 sec - loss: 0.322113037109375\n",
            "Epoch: 68/150\n",
            "[===============================] - 0.07233405113220215 sec - loss: 11.962333679199219\n",
            "Epoch: 69/150\n",
            "[===============================] - 0.07653260231018066 sec - loss: 0.43697986006736755\n",
            "Epoch: 70/150\n",
            "[===============================] - 0.06673407554626465 sec - loss: 0.046459782868623734\n",
            "Epoch: 71/150\n",
            "[===============================] - 0.06569314002990723 sec - loss: 0.04514654353260994\n",
            "Epoch: 72/150\n",
            "[===============================] - 0.07656002044677734 sec - loss: 0.06387030333280563\n",
            "Epoch: 73/150\n",
            "[===============================] - 0.07220339775085449 sec - loss: 0.27059024572372437\n",
            "Epoch: 74/150\n",
            "[===============================] - 0.0668327808380127 sec - loss: 8.503822326660156\n",
            "Epoch: 75/150\n",
            "[===============================] - 0.06885957717895508 sec - loss: 0.7856690287590027\n",
            "Epoch: 76/150\n",
            "[===============================] - 0.07283425331115723 sec - loss: 0.07816214114427567\n",
            "Epoch: 77/150\n",
            "[===============================] - 0.06638407707214355 sec - loss: 0.13573791086673737\n",
            "Epoch: 78/150\n",
            "[===============================] - 0.06769037246704102 sec - loss: 0.0715634673833847\n",
            "Epoch: 79/150\n",
            "[===============================] - 0.07172584533691406 sec - loss: 3.782228708267212\n",
            "Epoch: 80/150\n",
            "[===============================] - 0.07001924514770508 sec - loss: 3.086488723754883\n",
            "Epoch: 81/150\n",
            "[===============================] - 0.06926155090332031 sec - loss: 0.23921415209770203\n",
            "Epoch: 82/150\n",
            "[===============================] - 0.0669240951538086 sec - loss: 1.5132570266723633\n",
            "Epoch: 83/150\n",
            "[===============================] - 0.07172989845275879 sec - loss: 4.023700714111328\n",
            "Epoch: 84/150\n",
            "[===============================] - 0.07096076011657715 sec - loss: 0.24214062094688416\n",
            "Epoch: 85/150\n",
            "[===============================] - 0.07527351379394531 sec - loss: 9.727638244628906\n",
            "Epoch: 86/150\n",
            "[===============================] - 0.06982922554016113 sec - loss: 1.1688331365585327\n",
            "Epoch: 87/150\n",
            "[===============================] - 0.06658148765563965 sec - loss: 0.03322587534785271\n",
            "Epoch: 88/150\n",
            "[===============================] - 0.06705975532531738 sec - loss: 0.029317496344447136\n",
            "Epoch: 89/150\n",
            "[===============================] - 0.06770110130310059 sec - loss: 0.03194664046168327\n",
            "Epoch: 90/150\n",
            "[===============================] - 0.06582999229431152 sec - loss: 2.183115243911743\n",
            "Epoch: 91/150\n",
            "[===============================] - 0.0652616024017334 sec - loss: 3.852294445037842\n",
            "Epoch: 92/150\n",
            "[===============================] - 0.06921195983886719 sec - loss: 0.35568752884864807\n",
            "Epoch: 93/150\n",
            "[===============================] - 0.06551957130432129 sec - loss: 0.019018057733774185\n",
            "Epoch: 94/150\n",
            "[===============================] - 0.06612801551818848 sec - loss: 23.488998413085938\n",
            "Epoch: 95/150\n",
            "[===============================] - 0.06809687614440918 sec - loss: 0.0597047321498394\n",
            "Epoch: 96/150\n",
            "[===============================] - 0.06682729721069336 sec - loss: 0.00943065993487835\n",
            "Epoch: 97/150\n",
            "[===============================] - 0.06502604484558105 sec - loss: 0.009973987005650997\n",
            "Epoch: 98/150\n",
            "[===============================] - 0.08152127265930176 sec - loss: 0.010861934162676334\n",
            "Epoch: 99/150\n",
            "[===============================] - 0.07035112380981445 sec - loss: 0.012328828684985638\n",
            "Epoch: 100/150\n",
            "[===============================] - 0.0662691593170166 sec - loss: 0.014252224937081337\n",
            "Epoch: 101/150\n",
            "[===============================] - 0.0698537826538086 sec - loss: 0.015362204983830452\n",
            "Epoch: 102/150\n",
            "[===============================] - 0.06503701210021973 sec - loss: 0.015380989760160446\n",
            "Epoch: 103/150\n",
            "[===============================] - 0.07133722305297852 sec - loss: 0.008335905149579048\n",
            "Epoch: 104/150\n",
            "[===============================] - 0.06911110877990723 sec - loss: 0.015961339697241783\n",
            "Epoch: 105/150\n",
            "[===============================] - 0.06583809852600098 sec - loss: 21.286958694458008\n",
            "Epoch: 106/150\n",
            "[===============================] - 0.06525421142578125 sec - loss: 0.09523067623376846\n",
            "Epoch: 107/150\n",
            "[===============================] - 0.08269405364990234 sec - loss: 0.017302246764302254\n",
            "Epoch: 108/150\n",
            "[===============================] - 0.06588411331176758 sec - loss: 0.0176753681153059\n",
            "Epoch: 109/150\n",
            "[===============================] - 0.06591534614562988 sec - loss: 0.01836507022380829\n",
            "Epoch: 110/150\n",
            "[===============================] - 0.06836795806884766 sec - loss: 0.019071800634264946\n",
            "Epoch: 111/150\n",
            "[===============================] - 0.06537342071533203 sec - loss: 0.018613554537296295\n",
            "Epoch: 112/150\n",
            "[===============================] - 0.07465004920959473 sec - loss: 0.01799333654344082\n",
            "Epoch: 113/150\n",
            "[===============================] - 0.07932281494140625 sec - loss: 0.015272646211087704\n",
            "Epoch: 114/150\n",
            "[===============================] - 0.07527041435241699 sec - loss: 0.9626119136810303\n",
            "Epoch: 115/150\n",
            "[===============================] - 0.06494522094726562 sec - loss: 4.48252010345459\n",
            "Epoch: 116/150\n",
            "[===============================] - 0.07530045509338379 sec - loss: 0.08963366597890854\n",
            "Epoch: 117/150\n",
            "[===============================] - 0.0741887092590332 sec - loss: 3.865572452545166\n",
            "Epoch: 118/150\n",
            "[===============================] - 0.06962275505065918 sec - loss: 1.2275168895721436\n",
            "Epoch: 119/150\n",
            "[===============================] - 0.07123994827270508 sec - loss: 1.032515048980713\n",
            "Epoch: 120/150\n",
            "[===============================] - 0.06764602661132812 sec - loss: 9.074546813964844\n",
            "Epoch: 121/150\n",
            "[===============================] - 0.07546830177307129 sec - loss: 0.6305007338523865\n",
            "Epoch: 122/150\n",
            "[===============================] - 0.06667971611022949 sec - loss: 0.01917300559580326\n",
            "Epoch: 123/150\n",
            "[===============================] - 0.06739950180053711 sec - loss: 0.009997611865401268\n",
            "Epoch: 124/150\n",
            "[===============================] - 0.07023978233337402 sec - loss: 0.03743408992886543\n",
            "Epoch: 125/150\n",
            "[===============================] - 0.0676875114440918 sec - loss: 6.568790435791016\n",
            "Epoch: 126/150\n",
            "[===============================] - 0.07080793380737305 sec - loss: 1.2011383771896362\n",
            "Epoch: 127/150\n",
            "[===============================] - 0.0715479850769043 sec - loss: 0.02318519353866577\n",
            "Epoch: 128/150\n",
            "[===============================] - 0.06627297401428223 sec - loss: 0.014790215529501438\n",
            "Epoch: 129/150\n",
            "[===============================] - 0.06569433212280273 sec - loss: 2.1751723289489746\n",
            "Epoch: 130/150\n",
            "[===============================] - 0.06823015213012695 sec - loss: 6.155183792114258\n",
            "Epoch: 131/150\n",
            "[===============================] - 0.06522369384765625 sec - loss: 0.8867426514625549\n",
            "Epoch: 132/150\n",
            "[===============================] - 0.06480026245117188 sec - loss: 0.015473213978111744\n",
            "Epoch: 133/150\n",
            "[===============================] - 0.06789851188659668 sec - loss: 0.010529875755310059\n",
            "Epoch: 134/150\n",
            "[===============================] - 0.07340645790100098 sec - loss: 5.99237060546875\n",
            "Epoch: 135/150\n",
            "[===============================] - 0.06652641296386719 sec - loss: 1.519581913948059\n",
            "Epoch: 136/150\n",
            "[===============================] - 0.0736093521118164 sec - loss: 0.11230774968862534\n",
            "Epoch: 137/150\n",
            "[===============================] - 0.07258725166320801 sec - loss: 0.29304561018943787\n",
            "Epoch: 138/150\n",
            "[===============================] - 0.07959222793579102 sec - loss: 14.455353736877441\n",
            "Epoch: 139/150\n",
            "[===============================] - 0.07587265968322754 sec - loss: 0.32370638847351074\n",
            "Epoch: 140/150\n",
            "[===============================] - 0.07007765769958496 sec - loss: 0.010547845624387264\n",
            "Epoch: 141/150\n",
            "[===============================] - 0.07712006568908691 sec - loss: 0.0077053336426615715\n",
            "Epoch: 142/150\n",
            "[===============================] - 0.07475709915161133 sec - loss: 0.006583648733794689\n",
            "Epoch: 143/150\n",
            "[===============================] - 0.07058572769165039 sec - loss: 0.016165034845471382\n",
            "Epoch: 144/150\n",
            "[===============================] - 0.07023334503173828 sec - loss: 0.03173969313502312\n",
            "Epoch: 145/150\n",
            "[===============================] - 0.07072901725769043 sec - loss: 2.1602537631988525\n",
            "Epoch: 146/150\n",
            "[===============================] - 0.07046103477478027 sec - loss: 3.5323033332824707\n",
            "Epoch: 147/150\n",
            "[===============================] - 0.0734412670135498 sec - loss: 0.873434841632843\n",
            "Epoch: 148/150\n",
            "[===============================] - 0.0649709701538086 sec - loss: 0.42642834782600403\n",
            "Epoch: 149/150\n",
            "[===============================] - 0.06510281562805176 sec - loss: 12.442523002624512\n",
            "Epoch: 150/150\n",
            "[===============================] - 0.07097268104553223 sec - loss: 1.0075889825820923\n"
          ],
          "name": "stdout"
        }
      ]
    },
    {
      "cell_type": "markdown",
      "metadata": {
        "id": "OqJMre6D-4TJ"
      },
      "source": [
        "# Results"
      ]
    },
    {
      "cell_type": "code",
      "metadata": {
        "id": "QiR1k19dzyak",
        "outputId": "d6c6cd04-9818-4260-8767-be327ed84a84",
        "colab": {
          "base_uri": "https://localhost:8080/",
          "height": 204
        }
      },
      "source": [
        "print(['x', 'y', 'expected', 'actual'])\n",
        "print(np.concatenate((data[800:810], data_labels[800:810], predict(data[800:810], 5)), axis=1))"
      ],
      "execution_count": null,
      "outputs": [
        {
          "output_type": "stream",
          "text": [
            "['x', 'y', 'expected', 'actual']\n",
            "[[ 16.        22.        38.        37.99337 ]\n",
            " [ 71.        32.       103.       102.90359 ]\n",
            " [ 96.         8.       104.       104.01371 ]\n",
            " [ 25.         5.        30.        29.998138]\n",
            " [ 89.         1.        90.        90.234   ]\n",
            " [ 80.        51.       131.       130.87273 ]\n",
            " [ 91.        61.       152.       151.81143 ]\n",
            " [ 51.        67.       118.       117.87354 ]\n",
            " [ 18.        94.       112.       112.06926 ]\n",
            " [ 49.        62.       111.       110.87208 ]]\n"
          ],
          "name": "stdout"
        }
      ]
    },
    {
      "cell_type": "code",
      "metadata": {
        "id": "_wHPRONEGV-L",
        "outputId": "a040b3fb-5bfc-4443-c11e-c07223d1db51",
        "colab": {
          "base_uri": "https://localhost:8080/",
          "height": 295
        }
      },
      "source": [
        "plt.semilogy(fitres['loss'])\n",
        "plt.title('model loss')\n",
        "plt.ylabel('loss')\n",
        "plt.xlabel('epoch')\n",
        "plt.legend(['train'], loc='upper right')\n",
        "plt.show()"
      ],
      "execution_count": null,
      "outputs": [
        {
          "output_type": "display_data",
          "data": {
            "image/png": "[encoded data removed]",
            "text/plain": [
              "<Figure size 432x288 with 1 Axes>"
            ]
          },
          "metadata": {
            "tags": [],
            "needs_background": "light"
          }
        }
      ]
    },
    {
      "cell_type": "markdown",
      "metadata": {
        "id": "x1DFcorH4_-1"
      },
      "source": [
        "# Analysis"
      ]
    },
    {
      "cell_type": "code",
      "metadata": {
        "id": "6x4yhkHx5EOx",
        "outputId": "7461bd92-62f8-4464-9f43-abce731c89c3",
        "colab": {
          "base_uri": "https://localhost:8080/",
          "height": 204
        }
      },
      "source": [
        "print(compute(data[800:810], 6))"
      ],
      "execution_count": null,
      "outputs": [
        {
          "output_type": "stream",
          "text": [
            "tf.Tensor(\n",
            "[[  5.771011   20.371477   23.920355   30.272678   37.99337    45.69409  ]\n",
            " [ 15.616522   55.15226    64.63598    81.82447   102.90359   123.81841  ]\n",
            " [ 17.807415   56.81425    64.948204   82.540215  104.01371   125.02814  ]\n",
            " [  4.8591256  16.312582   18.836002   23.856846   29.998138   36.03773  ]\n",
            " [ 16.193796   49.61068    56.246407   71.576546   90.234     108.426506 ]\n",
            " [ 19.661097   69.97412    82.24384   104.128685  130.87273   157.5225   ]\n",
            " [ 22.777464   81.154236   95.396835  120.78931   151.81143   182.7372   ]\n",
            " [ 17.674683   63.014286   74.050385   93.82217   117.87354   141.87302  ]\n",
            " [ 19.504698   59.9812     70.181145   89.13197   112.06926   134.81142  ]\n",
            " [ 16.601902   59.2815     69.661224   88.25177   110.87208   133.44398  ]], shape=(10, 6), dtype=float32)\n"
          ],
          "name": "stdout"
        }
      ]
    }
  ]
}