{
  "nbformat": 4,
  "nbformat_minor": 0,
  "metadata": {
    "colab": {
      "name": "ConscConcluderV2-0.4.ipynb",
      "provenance": [],
      "collapsed_sections": [],
      "toc_visible": true,
      "authorship_tag": "ABX9TyOjBnbnGlW3FuJYH6+0zSGQ",
      "include_colab_link": true
    },
    "kernelspec": {
      "name": "python3",
      "display_name": "Python 3"
    }
  },
  "cells": [
    {
      "cell_type": "markdown",
      "metadata": {
        "id": "view-in-github",
        "colab_type": "text"
      },
      "source": [
        "<a href=\"https://colab.research.google.com/github/toaomalkster/conscious-calculator-notebooks/blob/main/src/scratch/notebooks/number-adder/NumberAdder_0_4.ipynb\" target=\"_parent\"><img src=\"https://colab.research.google.com/assets/colab-badge.svg\" alt=\"Open In Colab\"/></a>"
      ]
    },
    {
      "cell_type": "markdown",
      "metadata": {
        "id": "D7LX96lpBYkT"
      },
      "source": [
        "# Number Adder\n",
        "0.4:\n",
        "* Running model in a loop with feedback\n",
        "* Beginnings of a re-inforcement style loss function:\n",
        "  * Input presented only on first iteration\n",
        "  * Loss measures output nodes only, summed across all iterations.\n",
        "\n",
        "## Background\n",
        "Building up towards a model based on Consciousness V2 theory.\n",
        "\n",
        "## Loss Function Considerations\n",
        "Non-negotiables:\n",
        "* Must produce the correct result at some point\n",
        "* Must not falsely represent the result -- ie: if there is a 'completion' flag, then it must always be close to zero if not outputting the result\n",
        "\n",
        "Fuzzy requirements:\n",
        "* Accuracy is more important than efficiency\n",
        "* Needs to identify 'completion' somehow\n",
        "\n",
        "Ideal optimisation requirements:\n",
        "* Minimise effort to produce result\n",
        "  * Optimises for quicker response times\n",
        "  * Also a protection against infinite loops"
      ]
    },
    {
      "cell_type": "markdown",
      "metadata": {
        "id": "YL5HKtzQRHWg"
      },
      "source": [
        "**App Boilerplate**"
      ]
    },
    {
      "cell_type": "code",
      "metadata": {
        "id": "9ruY3TtqP1gb",
        "outputId": "109f1e15-7989-4f84-93ca-64f90c070701",
        "colab": {
          "base_uri": "https://localhost:8080/",
          "height": 34
        }
      },
      "source": [
        "\n",
        "# TensorFlow and tf.keras\n",
        "import tensorflow as tf\n",
        "from tensorflow import keras\n",
        "\n",
        "# Helper libraries\n",
        "import numpy as np\n",
        "import matplotlib.pyplot as plt\n",
        "import time\n",
        "\n",
        "print(tf.__version__)\n"
      ],
      "execution_count": null,
      "outputs": [
        {
          "output_type": "stream",
          "text": [
            "2.3.0\n"
          ],
          "name": "stdout"
        }
      ]
    },
    {
      "cell_type": "markdown",
      "metadata": {
        "id": "OuRO0frKRXNG"
      },
      "source": [
        "# Setup Training Data"
      ]
    },
    {
      "cell_type": "code",
      "metadata": {
        "id": "u9uKG-DgmzBj",
        "outputId": "7b10d018-a137-499e-dcd4-c11b8e7c5d13",
        "colab": {
          "base_uri": "https://localhost:8080/",
          "height": 187
        }
      },
      "source": [
        "data = np.random.randint(100, size=(1000, 2)).astype('float32')\n",
        "data[0:10,:]"
      ],
      "execution_count": null,
      "outputs": [
        {
          "output_type": "execute_result",
          "data": {
            "text/plain": [
              "array([[33.,  0.],\n",
              "       [33.,  2.],\n",
              "       [84., 84.],\n",
              "       [77., 67.],\n",
              "       [52., 81.],\n",
              "       [95., 75.],\n",
              "       [89., 20.],\n",
              "       [ 0., 15.],\n",
              "       [98., 95.],\n",
              "       [88., 50.]], dtype=float32)"
            ]
          },
          "metadata": {
            "tags": []
          },
          "execution_count": 91
        }
      ]
    },
    {
      "cell_type": "code",
      "metadata": {
        "id": "8MFPbop0pOxh",
        "outputId": "967828eb-fa26-43ea-f5cb-b110e436b1e6",
        "colab": {
          "base_uri": "https://localhost:8080/",
          "height": 187
        }
      },
      "source": [
        "data_labels = (data[:,0] + data[:,1])[:,np.newaxis]\n",
        "data_labels[0:10,:]"
      ],
      "execution_count": null,
      "outputs": [
        {
          "output_type": "execute_result",
          "data": {
            "text/plain": [
              "array([[ 33.],\n",
              "       [ 35.],\n",
              "       [168.],\n",
              "       [144.],\n",
              "       [133.],\n",
              "       [170.],\n",
              "       [109.],\n",
              "       [ 15.],\n",
              "       [193.],\n",
              "       [138.]], dtype=float32)"
            ]
          },
          "metadata": {
            "tags": []
          },
          "execution_count": 92
        }
      ]
    },
    {
      "cell_type": "markdown",
      "metadata": {
        "id": "zvA_cusOu2oW"
      },
      "source": [
        "# Setup Model"
      ]
    },
    {
      "cell_type": "code",
      "metadata": {
        "id": "s0FP7IDJu_Yy",
        "outputId": "796bf825-fc0c-4aa5-bf0a-2c9cbb5206e2",
        "colab": {
          "base_uri": "https://localhost:8080/",
          "height": 221
        }
      },
      "source": [
        "feedbackNodes=5\n",
        "model = keras.Sequential([\n",
        "    keras.layers.InputLayer(input_shape=(2+feedbackNodes,)),\n",
        "    keras.layers.Dense(1000, activation='relu'),\n",
        "    keras.layers.Dense(1+feedbackNodes)\n",
        "])\n",
        "model.summary()"
      ],
      "execution_count": null,
      "outputs": [
        {
          "output_type": "stream",
          "text": [
            "Model: \"sequential_7\"\n",
            "_________________________________________________________________\n",
            "Layer (type)                 Output Shape              Param #   \n",
            "=================================================================\n",
            "dense_14 (Dense)             (None, 1000)              8000      \n",
            "_________________________________________________________________\n",
            "dense_15 (Dense)             (None, 6)                 6006      \n",
            "=================================================================\n",
            "Total params: 14,006\n",
            "Trainable params: 14,006\n",
            "Non-trainable params: 0\n",
            "_________________________________________________________________\n"
          ],
          "name": "stdout"
        }
      ]
    },
    {
      "cell_type": "markdown",
      "metadata": {
        "id": "wFw_GfVR8i8n"
      },
      "source": [
        "# Setup Training\n",
        "Running equivalent of:\n",
        "```\n",
        "# fitres = model.fit(data, data_labels, validation_split=0.2, shuffle=True, epochs=150)\n",
        "```"
      ]
    },
    {
      "cell_type": "markdown",
      "metadata": {
        "id": "M2h366BcfnHz"
      },
      "source": [
        "Trained to run with loop length 5, and asked to calculate 78 + 14, gives the following sub-results:\n",
        "```\n",
        "(tbd)\n",
        "```\n",
        "And the following final result:\n",
        "```\n",
        "(tbd)\n",
        "```"
      ]
    },
    {
      "cell_type": "code",
      "metadata": {
        "id": "x1X6bUtdwsiu"
      },
      "source": [
        "loss = tf.keras.losses.MeanSquaredError()\n",
        "optimizer = tf.keras.optimizers.Adam(2e-4, beta_1=0.5)\n",
        "\n",
        "@tf.function\n",
        "def multiIterationLoss(y_true, y_preds):\n",
        "  \"\"\"Computes re-inforcement loss across loop execution.\n",
        "\n",
        "  Args:\n",
        "    y_true: Ground truth values (expected final outcome).\n",
        "            shape = `[batch_size, d0, .. dN]`.\n",
        "    y_preds: The predicted values across all iterations of the loop.\n",
        "            shape = `[batch_size, loop_size, d0, .. dN]`.\n",
        "\n",
        "  Returns:\n",
        "    Mean absolute error values. shape = `[batch_size, d0, .. dN-1]`.\n",
        "  \"\"\"\n",
        "\n",
        "  # Simple implementation - mse on last iteration\n",
        "  lastPreds = y_preds[..., -1:]\n",
        "  return loss(y_true, lastPreds)\n",
        "\n",
        "@tf.function\n",
        "def compute(inputs, max_loop_length, training=False):\n",
        "  batchSize = inputs.shape[0]\n",
        "  outputs = None\n",
        "  feedback = tf.zeros(shape=(batchSize, feedbackNodes))\n",
        "\n",
        "  for i in range(max_loop_length):\n",
        "    # extend width of inputs with zeroed-out feedback\n",
        "    if i == 0:\n",
        "      inputsWithFeedback = tf.concat([inputs, feedback], axis=1)\n",
        "    else:\n",
        "      zeroedInputs = tf.zeros(shape=inputs.shape)\n",
        "      inputsWithFeedback = tf.concat([zeroedInputs, feedback], axis=1)\n",
        "  \n",
        "    # run model with inputs + feedback nodes\n",
        "    output = model(inputsWithFeedback, training)\n",
        "\n",
        "    # copy feedback for next iteration\n",
        "    feedback = output[:,-feedbackNodes:]\n",
        "\n",
        "    # produce output for records\n",
        "    # (note: doesn't use TF functions so don't re-use any of this for next iteration)\n",
        "    outputWithoutFeedback = output[:,:-feedbackNodes]\n",
        "    if outputs == None:\n",
        "      outputs = outputWithoutFeedback\n",
        "    else:\n",
        "      outputs = tf.concat([outputs, outputWithoutFeedback], axis=tf.rank(output)-1)\n",
        "\n",
        "  return outputs\n",
        "\n",
        "def predict(inputs, max_loop_length, training=False):\n",
        "  # pick last output only\n",
        "  return compute(inputs, max_loop_length, training)[...,-1:]\n",
        "\n",
        "@tf.function\n",
        "def train_step(inputs, expected, max_loop_length):\n",
        "  with tf.GradientTape() as tape:\n",
        "    outputs = compute(inputs, max_loop_length, training=True)\n",
        "\n",
        "    # calculate loss ignoring feedback output\n",
        "    loop_loss = multiIterationLoss(expected, outputs)\n",
        "\n",
        "    # train model\n",
        "    gradients = tape.gradient(loop_loss, model.trainable_variables)\n",
        "    optimizer.apply_gradients(zip(gradients, model.trainable_variables))\n",
        "    return loop_loss"
      ],
      "execution_count": null,
      "outputs": []
    },
    {
      "cell_type": "code",
      "metadata": {
        "id": "eK2xIQ3b_AIM"
      },
      "source": [
        "def fit(train_data, train_labels, epochs, batch_size, max_loop_length):\n",
        "  res = {}\n",
        "  res['loss'] = []\n",
        "\n",
        "  for epoch in range(epochs):\n",
        "    print ('Epoch: {}/{}'.format(epoch+1, epochs))\n",
        "    start = time.time()\n",
        "    sum_loss = 0\n",
        "\n",
        "    # Train in batches\n",
        "    mx = (int(len(train_data)/batch_size))*batch_size\n",
        "    n  = mx/batch_size\n",
        "    print ('[', end='')\n",
        "    for i in range(0, mx, batch_size):\n",
        "      batch_data   = train_data[i:i+batch_size]\n",
        "      batch_labels = train_labels[i:i+batch_size]\n",
        "      sum_loss += train_step(batch_data, batch_labels, max_loop_length)\n",
        "      print ('=', end='')\n",
        "    print('] - {} sec - loss: {}'.format(time.time()-start, sum_loss/n))\n",
        "\n",
        "    # Record history\n",
        "    res['loss'].append(sum_loss/n)\n",
        "\n",
        "  return res"
      ],
      "execution_count": null,
      "outputs": []
    },
    {
      "cell_type": "markdown",
      "metadata": {
        "id": "gJYYVtKz-6b-"
      },
      "source": [
        "# Run Training"
      ]
    },
    {
      "cell_type": "code",
      "metadata": {
        "id": "nLkgvYqGB8wO",
        "outputId": "fd61f420-d9ed-41a0-fb3f-4a252100d43a",
        "colab": {
          "base_uri": "https://localhost:8080/",
          "height": 1000
        }
      },
      "source": [
        "fitres = fit(data, data_labels, epochs=150, batch_size=32, max_loop_length=5)"
      ],
      "execution_count": null,
      "outputs": [
        {
          "output_type": "stream",
          "text": [
            "Epoch: 1/150\n",
            "[===============================] - 0.6995441913604736 sec - loss: 10607.0390625\n",
            "Epoch: 2/150\n",
            "[===============================] - 0.06315350532531738 sec - loss: 477.096435546875\n",
            "Epoch: 3/150\n",
            "[===============================] - 0.07015872001647949 sec - loss: 16.50725746154785\n",
            "Epoch: 4/150\n",
            "[===============================] - 0.06670665740966797 sec - loss: 9.279827117919922\n",
            "Epoch: 5/150\n",
            "[===============================] - 0.06145215034484863 sec - loss: 4.935959339141846\n",
            "Epoch: 6/150\n",
            "[===============================] - 0.0727839469909668 sec - loss: 2.625032424926758\n",
            "Epoch: 7/150\n",
            "[===============================] - 0.07418084144592285 sec - loss: 1.4859988689422607\n",
            "Epoch: 8/150\n",
            "[===============================] - 0.06786465644836426 sec - loss: 0.9322476387023926\n",
            "Epoch: 9/150\n",
            "[===============================] - 0.06055784225463867 sec - loss: 0.648166298866272\n",
            "Epoch: 10/150\n",
            "[===============================] - 0.06398463249206543 sec - loss: 0.48280853033065796\n",
            "Epoch: 11/150\n",
            "[===============================] - 0.06563520431518555 sec - loss: 0.37467291951179504\n",
            "Epoch: 12/150\n",
            "[===============================] - 0.06183886528015137 sec - loss: 0.29844263195991516\n",
            "Epoch: 13/150\n",
            "[===============================] - 0.07343506813049316 sec - loss: 0.24292412400245667\n",
            "Epoch: 14/150\n",
            "[===============================] - 0.075897216796875 sec - loss: 0.20216061174869537\n",
            "Epoch: 15/150\n",
            "[===============================] - 0.06600213050842285 sec - loss: 0.1718766838312149\n",
            "Epoch: 16/150\n",
            "[===============================] - 0.06498193740844727 sec - loss: 0.1489926427602768\n",
            "Epoch: 17/150\n",
            "[===============================] - 0.06024956703186035 sec - loss: 0.13144102692604065\n",
            "Epoch: 18/150\n",
            "[===============================] - 0.059505462646484375 sec - loss: 0.11761385202407837\n",
            "Epoch: 19/150\n",
            "[===============================] - 0.06599092483520508 sec - loss: 0.10644727200269699\n",
            "Epoch: 20/150\n",
            "[===============================] - 0.06585812568664551 sec - loss: 0.09727583080530167\n",
            "Epoch: 21/150\n",
            "[===============================] - 0.06783342361450195 sec - loss: 0.08955024927854538\n",
            "Epoch: 22/150\n",
            "[===============================] - 0.0706474781036377 sec - loss: 0.08290400356054306\n",
            "Epoch: 23/150\n",
            "[===============================] - 0.062367916107177734 sec - loss: 0.07712152600288391\n",
            "Epoch: 24/150\n",
            "[===============================] - 0.06266069412231445 sec - loss: 0.07196584343910217\n",
            "Epoch: 25/150\n",
            "[===============================] - 0.06582236289978027 sec - loss: 0.06734572350978851\n",
            "Epoch: 26/150\n",
            "[===============================] - 0.0630948543548584 sec - loss: 0.06313637644052505\n",
            "Epoch: 27/150\n",
            "[===============================] - 0.0599977970123291 sec - loss: 0.05922306701540947\n",
            "Epoch: 28/150\n",
            "[===============================] - 0.06672453880310059 sec - loss: 0.05559038370847702\n",
            "Epoch: 29/150\n",
            "[===============================] - 0.05981945991516113 sec - loss: 0.05199373513460159\n",
            "Epoch: 30/150\n",
            "[===============================] - 0.061807870864868164 sec - loss: 0.04833001643419266\n",
            "Epoch: 31/150\n",
            "[===============================] - 0.06305313110351562 sec - loss: 0.044672735035419464\n",
            "Epoch: 32/150\n",
            "[===============================] - 0.06334185600280762 sec - loss: 0.0410020612180233\n",
            "Epoch: 33/150\n",
            "[===============================] - 0.059805870056152344 sec - loss: 0.037442274391651154\n",
            "Epoch: 34/150\n",
            "[===============================] - 0.06092405319213867 sec - loss: 0.034238770604133606\n",
            "Epoch: 35/150\n",
            "[===============================] - 0.06551051139831543 sec - loss: 0.03163633495569229\n",
            "Epoch: 36/150\n",
            "[===============================] - 0.0634012222290039 sec - loss: 0.029861263930797577\n",
            "Epoch: 37/150\n",
            "[===============================] - 0.0604250431060791 sec - loss: 0.028975659981369972\n",
            "Epoch: 38/150\n",
            "[===============================] - 0.0710747241973877 sec - loss: 0.02896699868142605\n",
            "Epoch: 39/150\n",
            "[===============================] - 0.05974888801574707 sec - loss: 0.03009691648185253\n",
            "Epoch: 40/150\n",
            "[===============================] - 0.05979442596435547 sec - loss: 0.03765907511115074\n",
            "Epoch: 41/150\n",
            "[===============================] - 0.06957721710205078 sec - loss: 0.06536989659070969\n",
            "Epoch: 42/150\n",
            "[===============================] - 0.060152292251586914 sec - loss: 2.0243887901306152\n",
            "Epoch: 43/150\n",
            "[===============================] - 0.062188148498535156 sec - loss: 2.444455623626709\n",
            "Epoch: 44/150\n",
            "[===============================] - 0.06305408477783203 sec - loss: 0.18331870436668396\n",
            "Epoch: 45/150\n",
            "[===============================] - 0.06183505058288574 sec - loss: 0.9556671977043152\n",
            "Epoch: 46/150\n",
            "[===============================] - 0.06891369819641113 sec - loss: 6.4825029373168945\n",
            "Epoch: 47/150\n",
            "[===============================] - 0.06554150581359863 sec - loss: 0.03765972703695297\n",
            "Epoch: 48/150\n",
            "[===============================] - 0.06338119506835938 sec - loss: 0.06129400059580803\n",
            "Epoch: 49/150\n",
            "[===============================] - 0.060796499252319336 sec - loss: 2.0044121742248535\n",
            "Epoch: 50/150\n",
            "[===============================] - 0.059721946716308594 sec - loss: 5.027796745300293\n",
            "Epoch: 51/150\n",
            "[===============================] - 0.0674128532409668 sec - loss: 0.0672970712184906\n",
            "Epoch: 52/150\n",
            "[===============================] - 0.06005692481994629 sec - loss: 0.06271840631961823\n",
            "Epoch: 53/150\n",
            "[===============================] - 0.0660700798034668 sec - loss: 3.20828914642334\n",
            "Epoch: 54/150\n",
            "[===============================] - 0.06299996376037598 sec - loss: 2.4434027671813965\n",
            "Epoch: 55/150\n",
            "[===============================] - 0.060157060623168945 sec - loss: 0.2839809060096741\n",
            "Epoch: 56/150\n",
            "[===============================] - 0.06489205360412598 sec - loss: 1.888211727142334\n",
            "Epoch: 57/150\n",
            "[===============================] - 0.06411194801330566 sec - loss: 2.838210105895996\n",
            "Epoch: 58/150\n",
            "[===============================] - 0.060460567474365234 sec - loss: 1.6409614086151123\n",
            "Epoch: 59/150\n",
            "[===============================] - 0.06188607215881348 sec - loss: 1.7567667961120605\n",
            "Epoch: 60/150\n",
            "[===============================] - 0.060193777084350586 sec - loss: 3.5046844482421875\n",
            "Epoch: 61/150\n",
            "[===============================] - 0.06462597846984863 sec - loss: 0.34025096893310547\n",
            "Epoch: 62/150\n",
            "[===============================] - 0.05900263786315918 sec - loss: 0.6764388680458069\n",
            "Epoch: 63/150\n",
            "[===============================] - 0.058495521545410156 sec - loss: 5.354944229125977\n",
            "Epoch: 64/150\n",
            "[===============================] - 0.06133913993835449 sec - loss: 0.04302855208516121\n",
            "Epoch: 65/150\n",
            "[===============================] - 0.05832839012145996 sec - loss: 0.10251481086015701\n",
            "Epoch: 66/150\n",
            "[===============================] - 0.06226396560668945 sec - loss: 3.59370756149292\n",
            "Epoch: 67/150\n",
            "[===============================] - 0.06358146667480469 sec - loss: 2.123502731323242\n",
            "Epoch: 68/150\n",
            "[===============================] - 0.060205936431884766 sec - loss: 0.7448388934135437\n",
            "Epoch: 69/150\n",
            "[===============================] - 0.06204390525817871 sec - loss: 4.507761478424072\n",
            "Epoch: 70/150\n",
            "[===============================] - 0.07274341583251953 sec - loss: 0.4056794345378876\n",
            "Epoch: 71/150\n",
            "[===============================] - 0.0692901611328125 sec - loss: 0.2122436910867691\n",
            "Epoch: 72/150\n",
            "[===============================] - 0.06774330139160156 sec - loss: 3.376814603805542\n",
            "Epoch: 73/150\n",
            "[===============================] - 0.06565427780151367 sec - loss: 2.1767117977142334\n",
            "Epoch: 74/150\n",
            "[===============================] - 0.0589900016784668 sec - loss: 0.42705315351486206\n",
            "Epoch: 75/150\n",
            "[===============================] - 0.06137490272521973 sec - loss: 4.6589531898498535\n",
            "Epoch: 76/150\n",
            "[===============================] - 0.06063127517700195 sec - loss: 0.19848176836967468\n",
            "Epoch: 77/150\n",
            "[===============================] - 0.06309938430786133 sec - loss: 0.3990304470062256\n",
            "Epoch: 78/150\n",
            "[===============================] - 0.0610966682434082 sec - loss: 3.7867367267608643\n",
            "Epoch: 79/150\n",
            "[===============================] - 0.06000566482543945 sec - loss: 0.18046432733535767\n",
            "Epoch: 80/150\n",
            "[===============================] - 0.06355166435241699 sec - loss: 2.9071755409240723\n",
            "Epoch: 81/150\n",
            "[===============================] - 0.06270647048950195 sec - loss: 2.6751151084899902\n",
            "Epoch: 82/150\n",
            "[===============================] - 0.062159061431884766 sec - loss: 0.1789471060037613\n",
            "Epoch: 83/150\n",
            "[===============================] - 0.06397628784179688 sec - loss: 4.407343864440918\n",
            "Epoch: 84/150\n",
            "[===============================] - 0.060570478439331055 sec - loss: 0.7959901690483093\n",
            "Epoch: 85/150\n",
            "[===============================] - 0.06519746780395508 sec - loss: 0.07566680014133453\n",
            "Epoch: 86/150\n",
            "[===============================] - 0.06340765953063965 sec - loss: 2.890516757965088\n",
            "Epoch: 87/150\n",
            "[===============================] - 0.06766033172607422 sec - loss: 3.2521097660064697\n",
            "Epoch: 88/150\n",
            "[===============================] - 0.061187028884887695 sec - loss: 0.04780319333076477\n",
            "Epoch: 89/150\n",
            "[===============================] - 0.0602269172668457 sec - loss: 1.259355068206787\n",
            "Epoch: 90/150\n",
            "[===============================] - 0.06405520439147949 sec - loss: 4.530400276184082\n",
            "Epoch: 91/150\n",
            "[===============================] - 0.06348538398742676 sec - loss: 0.06216437369585037\n",
            "Epoch: 92/150\n",
            "[===============================] - 0.06444382667541504 sec - loss: 0.48663249611854553\n",
            "Epoch: 93/150\n",
            "[===============================] - 0.07031893730163574 sec - loss: 6.1947021484375\n",
            "Epoch: 94/150\n",
            "[===============================] - 0.06493449211120605 sec - loss: 0.05938700959086418\n",
            "Epoch: 95/150\n",
            "[===============================] - 0.06211686134338379 sec - loss: 0.02182733453810215\n",
            "Epoch: 96/150\n",
            "[===============================] - 0.06812858581542969 sec - loss: 0.49152132868766785\n",
            "Epoch: 97/150\n",
            "[===============================] - 0.06251287460327148 sec - loss: 7.388352394104004\n",
            "Epoch: 98/150\n",
            "[===============================] - 0.06051206588745117 sec - loss: 0.05490756407380104\n",
            "Epoch: 99/150\n",
            "[===============================] - 0.06384062767028809 sec - loss: 0.019575128331780434\n",
            "Epoch: 100/150\n",
            "[===============================] - 0.06027579307556152 sec - loss: 0.09791979193687439\n",
            "Epoch: 101/150\n",
            "[===============================] - 0.0705115795135498 sec - loss: 4.5701799392700195\n",
            "Epoch: 102/150\n",
            "[===============================] - 0.06691789627075195 sec - loss: 0.0673203393816948\n",
            "Epoch: 103/150\n",
            "[===============================] - 0.06151223182678223 sec - loss: 0.08613114058971405\n",
            "Epoch: 104/150\n",
            "[===============================] - 0.05937933921813965 sec - loss: 7.095339298248291\n",
            "Epoch: 105/150\n",
            "[===============================] - 0.06209158897399902 sec - loss: 0.08198241144418716\n",
            "Epoch: 106/150\n",
            "[===============================] - 0.06799983978271484 sec - loss: 0.03485275059938431\n",
            "Epoch: 107/150\n",
            "[===============================] - 0.06194615364074707 sec - loss: 0.01717689074575901\n",
            "Epoch: 108/150\n",
            "[===============================] - 0.05824422836303711 sec - loss: 10.867875099182129\n",
            "Epoch: 109/150\n",
            "[===============================] - 0.06301021575927734 sec - loss: 0.7670252323150635\n",
            "Epoch: 110/150\n",
            "[===============================] - 0.0620114803314209 sec - loss: 0.020813362672924995\n",
            "Epoch: 111/150\n",
            "[===============================] - 0.061447858810424805 sec - loss: 0.014950563199818134\n",
            "Epoch: 112/150\n",
            "[===============================] - 0.06530976295471191 sec - loss: 0.011707525700330734\n",
            "Epoch: 113/150\n",
            "[===============================] - 0.05960369110107422 sec - loss: 0.1912250816822052\n",
            "Epoch: 114/150\n",
            "[===============================] - 0.058991193771362305 sec - loss: 6.428606986999512\n",
            "Epoch: 115/150\n",
            "[===============================] - 0.06362485885620117 sec - loss: 0.06458988040685654\n",
            "Epoch: 116/150\n",
            "[===============================] - 0.06154584884643555 sec - loss: 0.022757964208722115\n",
            "Epoch: 117/150\n",
            "[===============================] - 0.07071852684020996 sec - loss: 0.3226163983345032\n",
            "Epoch: 118/150\n",
            "[===============================] - 0.061818599700927734 sec - loss: 8.089448928833008\n",
            "Epoch: 119/150\n",
            "[===============================] - 0.05876612663269043 sec - loss: 0.05108188837766647\n",
            "Epoch: 120/150\n",
            "[===============================] - 0.05909132957458496 sec - loss: 0.01901545375585556\n",
            "Epoch: 121/150\n",
            "[===============================] - 0.06309318542480469 sec - loss: 0.021623512730002403\n",
            "Epoch: 122/150\n",
            "[===============================] - 0.06539225578308105 sec - loss: 2.485865831375122\n",
            "Epoch: 123/150\n",
            "[===============================] - 0.058237314224243164 sec - loss: 4.467182636260986\n",
            "Epoch: 124/150\n",
            "[===============================] - 0.058759212493896484 sec - loss: 0.02897651121020317\n",
            "Epoch: 125/150\n",
            "[===============================] - 0.06090736389160156 sec - loss: 0.0074486564844846725\n",
            "Epoch: 126/150\n",
            "[===============================] - 0.06059002876281738 sec - loss: 0.4648984968662262\n",
            "Epoch: 127/150\n",
            "[===============================] - 0.0618739128112793 sec - loss: 10.078619956970215\n",
            "Epoch: 128/150\n",
            "[===============================] - 0.061934471130371094 sec - loss: 0.038987088948488235\n",
            "Epoch: 129/150\n",
            "[===============================] - 0.05935931205749512 sec - loss: 0.012018109671771526\n",
            "Epoch: 130/150\n",
            "[===============================] - 0.06264686584472656 sec - loss: 0.01580776274204254\n",
            "Epoch: 131/150\n",
            "[===============================] - 0.06162858009338379 sec - loss: 0.005084624979645014\n",
            "Epoch: 132/150\n",
            "[===============================] - 0.0661461353302002 sec - loss: 6.812204360961914\n",
            "Epoch: 133/150\n",
            "[===============================] - 0.06710505485534668 sec - loss: 0.8728161454200745\n",
            "Epoch: 134/150\n",
            "[===============================] - 0.061803340911865234 sec - loss: 0.024321334436535835\n",
            "Epoch: 135/150\n",
            "[===============================] - 0.06283044815063477 sec - loss: 0.13935546576976776\n",
            "Epoch: 136/150\n",
            "[===============================] - 0.05953240394592285 sec - loss: 3.4912190437316895\n",
            "Epoch: 137/150\n",
            "[===============================] - 0.06530570983886719 sec - loss: 1.5995657444000244\n",
            "Epoch: 138/150\n",
            "[===============================] - 0.07202339172363281 sec - loss: 0.38018423318862915\n",
            "Epoch: 139/150\n",
            "[===============================] - 0.0632777214050293 sec - loss: 4.69940710067749\n",
            "Epoch: 140/150\n",
            "[===============================] - 0.06203007698059082 sec - loss: 0.10954765975475311\n",
            "Epoch: 141/150\n",
            "[===============================] - 0.06557774543762207 sec - loss: 0.13389846682548523\n",
            "Epoch: 142/150\n",
            "[===============================] - 0.06504583358764648 sec - loss: 3.5165281295776367\n",
            "Epoch: 143/150\n",
            "[===============================] - 0.05931425094604492 sec - loss: 1.631699562072754\n",
            "Epoch: 144/150\n",
            "[===============================] - 0.06263899803161621 sec - loss: 0.29771214723587036\n",
            "Epoch: 145/150\n",
            "[===============================] - 0.062383174896240234 sec - loss: 4.667609691619873\n",
            "Epoch: 146/150\n",
            "[===============================] - 0.06023693084716797 sec - loss: 0.16940680146217346\n",
            "Epoch: 147/150\n",
            "[===============================] - 0.059963226318359375 sec - loss: 0.13601543009281158\n",
            "Epoch: 148/150\n",
            "[===============================] - 0.06426095962524414 sec - loss: 3.6127848625183105\n",
            "Epoch: 149/150\n",
            "[===============================] - 0.06852865219116211 sec - loss: 1.4581488370895386\n",
            "Epoch: 150/150\n",
            "[===============================] - 0.062236785888671875 sec - loss: 0.38775086402893066\n"
          ],
          "name": "stdout"
        }
      ]
    },
    {
      "cell_type": "markdown",
      "metadata": {
        "id": "OqJMre6D-4TJ"
      },
      "source": [
        "# Results"
      ]
    },
    {
      "cell_type": "code",
      "metadata": {
        "id": "QiR1k19dzyak",
        "outputId": "ce4256b3-fb0b-4c00-cfa3-6816400da2c2",
        "colab": {
          "base_uri": "https://localhost:8080/",
          "height": 204
        }
      },
      "source": [
        "print(['x', 'y', 'expected', 'actual'])\n",
        "print(np.concatenate((data[800:810], data_labels[800:810], predict(data[800:810], 5)), axis=1))"
      ],
      "execution_count": null,
      "outputs": [
        {
          "output_type": "stream",
          "text": [
            "['x', 'y', 'expected', 'actual']\n",
            "[[ 71.         4.        75.        74.32734 ]\n",
            " [ 99.        66.       165.       163.51746 ]\n",
            " [ 62.        97.       159.       157.50154 ]\n",
            " [ 23.        84.       107.       106.02239 ]\n",
            " [ 12.         5.        17.        16.871042]\n",
            " [ 23.        38.        61.        60.457672]\n",
            " [  9.        89.        98.        97.0142  ]\n",
            " [ 75.         4.        79.        78.29421 ]\n",
            " [ 44.        79.       123.       121.90023 ]\n",
            " [ 21.        23.        44.        43.65199 ]]\n"
          ],
          "name": "stdout"
        }
      ]
    },
    {
      "cell_type": "code",
      "metadata": {
        "id": "_wHPRONEGV-L",
        "outputId": "0b65311d-bafe-4759-dac5-21d2a778c83a",
        "colab": {
          "base_uri": "https://localhost:8080/",
          "height": 295
        }
      },
      "source": [
        "plt.semilogy(fitres['loss'])\n",
        "plt.title('model loss')\n",
        "plt.ylabel('loss')\n",
        "plt.xlabel('epoch')\n",
        "plt.legend(['train'], loc='upper right')\n",
        "plt.show()"
      ],
      "execution_count": null,
      "outputs": [
        {
          "output_type": "display_data",
          "data": {
            "image/png": "[encoded data removed]",
            "text/plain": [
              "<Figure size 432x288 with 1 Axes>"
            ]
          },
          "metadata": {
            "tags": [],
            "needs_background": "light"
          }
        }
      ]
    },
    {
      "cell_type": "markdown",
      "metadata": {
        "id": "x1DFcorH4_-1"
      },
      "source": [
        "# Analysis"
      ]
    },
    {
      "cell_type": "code",
      "metadata": {
        "id": "6x4yhkHx5EOx",
        "outputId": "89bcc891-0a56-4737-be45-d016de74a234",
        "colab": {
          "base_uri": "https://localhost:8080/",
          "height": 204
        }
      },
      "source": [
        "print(compute(data[800:810], 6))"
      ],
      "execution_count": null,
      "outputs": [
        {
          "output_type": "stream",
          "text": [
            "tf.Tensor(\n",
            "[[ 13.201622   17.908237   44.894234   60.62782    74.32734    88.50199  ]\n",
            " [ 26.6696     39.810875   98.219635  133.17825   163.51746   194.7297   ]\n",
            " [ 27.118732   38.15736    94.239944  128.16563   157.50154   187.5541   ]\n",
            " [ 20.202946   25.790947   63.435757   86.25546   106.02239   126.23732  ]\n",
            " [  2.8738933   4.186143   10.216275   13.778985   16.871042   20.060192 ]\n",
            " [ 10.524226   14.7048235  36.21661    49.21798    60.457672   71.96935  ]\n",
            " [ 20.022022   23.609114   57.993042   78.89728    97.0142    115.50575  ]\n",
            " [ 13.912443   18.858728   47.288685   63.86228    78.29421    93.22753  ]\n",
            " [ 21.352325   29.53797    72.93838    99.19683   121.90023   145.15054  ]\n",
            " [  7.30727    10.647643   26.205048   35.558712   43.65199    51.954044 ]], shape=(10, 6), dtype=float32)\n"
          ],
          "name": "stdout"
        }
      ]
    }
  ]
}