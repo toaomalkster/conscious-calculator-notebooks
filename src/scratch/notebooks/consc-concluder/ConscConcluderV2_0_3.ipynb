{
  "nbformat": 4,
  "nbformat_minor": 0,
  "metadata": {
    "colab": {
      "name": "ConscConcluderV2-0.3.ipynb",
      "provenance": [],
      "collapsed_sections": [],
      "toc_visible": true,
      "authorship_tag": "ABX9TyPevFb5tP1WquQcyamd5AQh",
      "include_colab_link": true
    },
    "kernelspec": {
      "name": "python3",
      "display_name": "Python 3"
    }
  },
  "cells": [
    {
      "cell_type": "markdown",
      "metadata": {
        "id": "view-in-github",
        "colab_type": "text"
      },
      "source": [
        "<a href=\"https://colab.research.google.com/github/toaomalkster/conscious-calculator-notebooks/blob/feature%2F20201025-load-existing-notebooks/ConscConcluderV2_0_3.ipynb\" target=\"_parent\"><img src=\"https://colab.research.google.com/assets/colab-badge.svg\" alt=\"Open In Colab\"/></a>"
      ]
    },
    {
      "cell_type": "markdown",
      "metadata": {
        "id": "D7LX96lpBYkT"
      },
      "source": [
        "# Conscious Concluder _(Theory V2)_\n",
        "0.3:\n",
        "* Running model in a loop with feedback.\n",
        "* Simple loss function applied to output nodes on last loop iteration only."
      ]
    },
    {
      "cell_type": "markdown",
      "metadata": {
        "id": "YL5HKtzQRHWg"
      },
      "source": [
        "**App Boilerplate**"
      ]
    },
    {
      "cell_type": "code",
      "metadata": {
        "id": "9ruY3TtqP1gb",
        "outputId": "b5b199ac-c552-4990-a171-7bfbb7aabefb",
        "colab": {
          "base_uri": "https://localhost:8080/",
          "height": 34
        }
      },
      "source": [
        "\n",
        "# TensorFlow and tf.keras\n",
        "import tensorflow as tf\n",
        "from tensorflow import keras\n",
        "\n",
        "# Helper libraries\n",
        "import numpy as np\n",
        "import matplotlib.pyplot as plt\n",
        "import time\n",
        "\n",
        "print(tf.__version__)\n"
      ],
      "execution_count": null,
      "outputs": [
        {
          "output_type": "stream",
          "text": [
            "2.3.0\n"
          ],
          "name": "stdout"
        }
      ]
    },
    {
      "cell_type": "markdown",
      "metadata": {
        "id": "OuRO0frKRXNG"
      },
      "source": [
        "# Setup Training Data"
      ]
    },
    {
      "cell_type": "code",
      "metadata": {
        "id": "u9uKG-DgmzBj",
        "outputId": "d14b0e77-63b6-4baf-f77e-f5431eb6e969",
        "colab": {
          "base_uri": "https://localhost:8080/",
          "height": 187
        }
      },
      "source": [
        "data = np.random.randint(100, size=(1000, 2)).astype('float32')\n",
        "data[0:10,:]"
      ],
      "execution_count": null,
      "outputs": [
        {
          "output_type": "execute_result",
          "data": {
            "text/plain": [
              "array([[99.,  7.],\n",
              "       [98., 19.],\n",
              "       [70., 81.],\n",
              "       [72., 89.],\n",
              "       [55., 55.],\n",
              "       [79., 25.],\n",
              "       [87., 17.],\n",
              "       [51.,  7.],\n",
              "       [13., 94.],\n",
              "       [72., 37.]], dtype=float32)"
            ]
          },
          "metadata": {
            "tags": []
          },
          "execution_count": 2
        }
      ]
    },
    {
      "cell_type": "code",
      "metadata": {
        "id": "8MFPbop0pOxh",
        "outputId": "c08503a8-2579-4679-f561-db49c59b24ae",
        "colab": {
          "base_uri": "https://localhost:8080/",
          "height": 187
        }
      },
      "source": [
        "data_labels = (data[:,0] + data[:,1])[:,np.newaxis]\n",
        "data_labels[0:10,:]"
      ],
      "execution_count": null,
      "outputs": [
        {
          "output_type": "execute_result",
          "data": {
            "text/plain": [
              "array([[106.],\n",
              "       [117.],\n",
              "       [151.],\n",
              "       [161.],\n",
              "       [110.],\n",
              "       [104.],\n",
              "       [104.],\n",
              "       [ 58.],\n",
              "       [107.],\n",
              "       [109.]], dtype=float32)"
            ]
          },
          "metadata": {
            "tags": []
          },
          "execution_count": 3
        }
      ]
    },
    {
      "cell_type": "markdown",
      "metadata": {
        "id": "zvA_cusOu2oW"
      },
      "source": [
        "# Setup Model"
      ]
    },
    {
      "cell_type": "code",
      "metadata": {
        "id": "s0FP7IDJu_Yy",
        "outputId": "a5855fa3-0076-41ba-930d-15befb759478",
        "colab": {
          "base_uri": "https://localhost:8080/",
          "height": 221
        }
      },
      "source": [
        "feedbackNodes=5\n",
        "model = keras.Sequential([\n",
        "    keras.layers.InputLayer(input_shape=(2+feedbackNodes,)),\n",
        "    keras.layers.Dense(1000, activation='relu'),\n",
        "    keras.layers.Dense(1+feedbackNodes)\n",
        "])\n",
        "model.summary()"
      ],
      "execution_count": null,
      "outputs": [
        {
          "output_type": "stream",
          "text": [
            "Model: \"sequential_19\"\n",
            "_________________________________________________________________\n",
            "Layer (type)                 Output Shape              Param #   \n",
            "=================================================================\n",
            "dense_38 (Dense)             (None, 1000)              8000      \n",
            "_________________________________________________________________\n",
            "dense_39 (Dense)             (None, 6)                 6006      \n",
            "=================================================================\n",
            "Total params: 14,006\n",
            "Trainable params: 14,006\n",
            "Non-trainable params: 0\n",
            "_________________________________________________________________\n"
          ],
          "name": "stdout"
        }
      ]
    },
    {
      "cell_type": "code",
      "metadata": {
        "id": "esV3YCafTT2H"
      },
      "source": [
        ""
      ],
      "execution_count": null,
      "outputs": []
    },
    {
      "cell_type": "markdown",
      "metadata": {
        "id": "wFw_GfVR8i8n"
      },
      "source": [
        "# Setup Training\n",
        "Running equivalent of:\n",
        "```\n",
        "# fitres = model.fit(data, data_labels, validation_split=0.2, shuffle=True, epochs=150)\n",
        "```"
      ]
    },
    {
      "cell_type": "markdown",
      "metadata": {
        "id": "M2h366BcfnHz"
      },
      "source": [
        "Trained to run with loop length 5, and asked to calculate 78 + 14, gives the following sub-results:\n",
        "```\n",
        "tf.Tensor([[ 20.863955  21.24786   21.903522 -26.444736  23.316566  27.105742]], shape=(1, 6), dtype=float32)\n",
        "tf.Tensor([[ 20.863955  21.24786   21.903522 -26.444736  23.316566  27.105742]], shape=(1, 6), dtype=float32)\n",
        "tf.Tensor([[ 57.066494  34.524754  38.432507 -41.519127  35.280796  43.55775 ]], shape=(1, 6), dtype=float32)\n",
        "tf.Tensor([[ 79.05473   43.883694  47.308945 -51.855434  42.59498   54.392387]], shape=(1, 6), dtype=float32)\n",
        "tf.Tensor([[ 92.63357   49.677063  52.68658  -58.210316  46.8365    61.155533]], shape=(1, 6), dtype=float32)\n",
        "```\n",
        "And the following final result:\n",
        "```\n",
        "<tf.Tensor: shape=(1, 1), dtype=float32, numpy=array([[92.63357]], dtype=float32)>\n",
        "```"
      ]
    },
    {
      "cell_type": "code",
      "metadata": {
        "id": "x1X6bUtdwsiu"
      },
      "source": [
        "optimizer = tf.keras.optimizers.Adam(2e-4, beta_1=0.5)\n",
        "loss = tf.keras.losses.MeanSquaredError()\n",
        "\n",
        "@tf.function\n",
        "def predict(inputs, max_loop_length, training=False):\n",
        "  # initialise feedback\n",
        "  feedback = tf.zeros(shape=(inputs.shape[0], feedbackNodes))\n",
        "\n",
        "  for i in range(max_loop_length):\n",
        "    # extend width of inputs with zeroed-out feedback\n",
        "    inputsWithFeedback = tf.concat([inputs, feedback], axis=1)\n",
        "  \n",
        "    # run model with inputs+feedback\n",
        "    output = model(inputsWithFeedback, training)\n",
        "\n",
        "    # copy feedback for next loop\n",
        "    feedback = output[:,-feedbackNodes:]\n",
        "\n",
        "  # produce result of model loop\n",
        "  return output[:,:-feedbackNodes]\n",
        "\n",
        "@tf.function\n",
        "def train_step(inputs, expected, max_loop_length):\n",
        "  with tf.GradientTape() as tape:\n",
        "    output = predict(inputs, max_loop_length, training=True)\n",
        "\n",
        "    # calculate loss ignoring feedback output\n",
        "    loop_loss = loss(output, expected)\n",
        "\n",
        "    # train model\n",
        "    gradients = tape.gradient(loop_loss, model.trainable_variables)\n",
        "    optimizer.apply_gradients(zip(gradients, model.trainable_variables))\n",
        "    return loop_loss"
      ],
      "execution_count": null,
      "outputs": []
    },
    {
      "cell_type": "code",
      "metadata": {
        "id": "eK2xIQ3b_AIM"
      },
      "source": [
        "def fit(train_data, train_labels, epochs, batch_size, max_loop_length):\n",
        "  res = {}\n",
        "  res['loss'] = []\n",
        "\n",
        "  for epoch in range(epochs):\n",
        "    print ('Epoch: {}/{}'.format(epoch+1, epochs))\n",
        "    start = time.time()\n",
        "    sum_loss = 0\n",
        "\n",
        "    # Train in batches\n",
        "    mx = (int(len(train_data)/batch_size))*batch_size\n",
        "    n  = mx/batch_size\n",
        "    print ('[', end='')\n",
        "    for i in range(0, mx, batch_size):\n",
        "      batch_data   = train_data[i:i+batch_size]\n",
        "      batch_labels = train_labels[i:i+batch_size]\n",
        "      sum_loss += train_step(batch_data, batch_labels, max_loop_length)\n",
        "      print ('=', end='')\n",
        "    print('] - {} sec - loss: {}'.format(time.time()-start, sum_loss/n))\n",
        "\n",
        "    # Record history\n",
        "    res['loss'].append(sum_loss/n)\n",
        "\n",
        "  return res"
      ],
      "execution_count": null,
      "outputs": []
    },
    {
      "cell_type": "markdown",
      "metadata": {
        "id": "gJYYVtKz-6b-"
      },
      "source": [
        "# Run Training"
      ]
    },
    {
      "cell_type": "code",
      "metadata": {
        "id": "nLkgvYqGB8wO",
        "outputId": "620e9095-dc7e-42e8-f173-35de74e92c03",
        "colab": {
          "base_uri": "https://localhost:8080/",
          "height": 1000
        }
      },
      "source": [
        "fitres = fit(data, data_labels, epochs=150, batch_size=32, max_loop_length=5)"
      ],
      "execution_count": null,
      "outputs": [
        {
          "output_type": "stream",
          "text": [
            "Epoch: 1/150\n",
            "[===============================] - 0.6348145008087158 sec - loss: 7647.05908203125\n",
            "Epoch: 2/150\n",
            "[===============================] - 0.07586812973022461 sec - loss: 870.9639892578125\n",
            "Epoch: 3/150\n",
            "[===============================] - 0.08882427215576172 sec - loss: 5.808632850646973\n",
            "Epoch: 4/150\n",
            "[===============================] - 0.08135342597961426 sec - loss: 1.6157244443893433\n",
            "Epoch: 5/150\n",
            "[===============================] - 0.0702216625213623 sec - loss: 0.5003424286842346\n",
            "Epoch: 6/150\n",
            "[===============================] - 0.07233309745788574 sec - loss: 0.24917443096637726\n",
            "Epoch: 7/150\n",
            "[===============================] - 0.07635164260864258 sec - loss: 0.15315976738929749\n",
            "Epoch: 8/150\n",
            "[===============================] - 0.07003259658813477 sec - loss: 0.09339998662471771\n",
            "Epoch: 9/150\n",
            "[===============================] - 0.07520842552185059 sec - loss: 0.05946202576160431\n",
            "Epoch: 10/150\n",
            "[===============================] - 0.06641197204589844 sec - loss: 0.03917738050222397\n",
            "Epoch: 11/150\n",
            "[===============================] - 0.08808064460754395 sec - loss: 0.02836339734494686\n",
            "Epoch: 12/150\n",
            "[===============================] - 0.07043695449829102 sec - loss: 0.02299550734460354\n",
            "Epoch: 13/150\n",
            "[===============================] - 0.0688779354095459 sec - loss: 0.01933494582772255\n",
            "Epoch: 14/150\n",
            "[===============================] - 0.06835460662841797 sec - loss: 0.01730373315513134\n",
            "Epoch: 15/150\n",
            "[===============================] - 0.06533980369567871 sec - loss: 0.01605539582669735\n",
            "Epoch: 16/150\n",
            "[===============================] - 0.07518577575683594 sec - loss: 0.0150878531858325\n",
            "Epoch: 17/150\n",
            "[===============================] - 0.07289648056030273 sec - loss: 0.014218431897461414\n",
            "Epoch: 18/150\n",
            "[===============================] - 0.07047271728515625 sec - loss: 0.013448787853121758\n",
            "Epoch: 19/150\n",
            "[===============================] - 0.06866884231567383 sec - loss: 0.012734119780361652\n",
            "Epoch: 20/150\n",
            "[===============================] - 0.0685431957244873 sec - loss: 0.012106687761843204\n",
            "Epoch: 21/150\n",
            "[===============================] - 0.06757616996765137 sec - loss: 0.011525517329573631\n",
            "Epoch: 22/150\n",
            "[===============================] - 0.0717012882232666 sec - loss: 0.010995974764227867\n",
            "Epoch: 23/150\n",
            "[===============================] - 0.0834512710571289 sec - loss: 0.01031605713069439\n",
            "Epoch: 24/150\n",
            "[===============================] - 0.0643770694732666 sec - loss: 0.010055484250187874\n",
            "Epoch: 25/150\n",
            "[===============================] - 0.06887555122375488 sec - loss: 0.009734843857586384\n",
            "Epoch: 26/150\n",
            "[===============================] - 0.06912541389465332 sec - loss: 0.00944469403475523\n",
            "Epoch: 27/150\n",
            "[===============================] - 0.06970739364624023 sec - loss: 0.008786708116531372\n",
            "Epoch: 28/150\n",
            "[===============================] - 0.07780265808105469 sec - loss: 0.008436106145381927\n",
            "Epoch: 29/150\n",
            "[===============================] - 0.06781196594238281 sec - loss: 0.008079375140368938\n",
            "Epoch: 30/150\n",
            "[===============================] - 0.07035636901855469 sec - loss: 0.0076962122693657875\n",
            "Epoch: 31/150\n",
            "[===============================] - 0.08028507232666016 sec - loss: 0.007302793208509684\n",
            "Epoch: 32/150\n",
            "[===============================] - 0.06665849685668945 sec - loss: 0.006926708854734898\n",
            "Epoch: 33/150\n",
            "[===============================] - 0.06632113456726074 sec - loss: 0.006615680642426014\n",
            "Epoch: 34/150\n",
            "[===============================] - 0.06771636009216309 sec - loss: 0.0061586834490299225\n",
            "Epoch: 35/150\n",
            "[===============================] - 0.07309651374816895 sec - loss: 0.0060158902779221535\n",
            "Epoch: 36/150\n",
            "[===============================] - 0.06966924667358398 sec - loss: 0.005886954255402088\n",
            "Epoch: 37/150\n",
            "[===============================] - 0.07524824142456055 sec - loss: 0.005555265583097935\n",
            "Epoch: 38/150\n",
            "[===============================] - 0.06635284423828125 sec - loss: 0.005484185181558132\n",
            "Epoch: 39/150\n",
            "[===============================] - 0.06828856468200684 sec - loss: 0.005277969874441624\n",
            "Epoch: 40/150\n",
            "[===============================] - 0.07839679718017578 sec - loss: 0.004910346120595932\n",
            "Epoch: 41/150\n",
            "[===============================] - 0.07052445411682129 sec - loss: 0.004459497053176165\n",
            "Epoch: 42/150\n",
            "[===============================] - 0.06922030448913574 sec - loss: 0.004125114995986223\n",
            "Epoch: 43/150\n",
            "[===============================] - 0.06814837455749512 sec - loss: 0.004101030994206667\n",
            "Epoch: 44/150\n",
            "[===============================] - 0.07208251953125 sec - loss: 0.007493911311030388\n",
            "Epoch: 45/150\n",
            "[===============================] - 0.07156062126159668 sec - loss: 0.02213277667760849\n",
            "Epoch: 46/150\n",
            "[===============================] - 0.06603479385375977 sec - loss: 0.004972576163709164\n",
            "Epoch: 47/150\n",
            "[===============================] - 0.06672930717468262 sec - loss: 0.006628132425248623\n",
            "Epoch: 48/150\n",
            "[===============================] - 0.07558083534240723 sec - loss: 0.02317362278699875\n",
            "Epoch: 49/150\n",
            "[===============================] - 0.07135462760925293 sec - loss: 0.01680098846554756\n",
            "Epoch: 50/150\n",
            "[===============================] - 0.06804776191711426 sec - loss: 0.011107970029115677\n",
            "Epoch: 51/150\n",
            "[===============================] - 0.06944775581359863 sec - loss: 0.029458679258823395\n",
            "Epoch: 52/150\n",
            "[===============================] - 0.0740516185760498 sec - loss: 0.019276835024356842\n",
            "Epoch: 53/150\n",
            "[===============================] - 0.06756448745727539 sec - loss: 0.0356009267270565\n",
            "Epoch: 54/150\n",
            "[===============================] - 0.07905745506286621 sec - loss: 0.023467985913157463\n",
            "Epoch: 55/150\n",
            "[===============================] - 0.07097291946411133 sec - loss: 0.04719476029276848\n",
            "Epoch: 56/150\n",
            "[===============================] - 0.06754517555236816 sec - loss: 0.03417229652404785\n",
            "Epoch: 57/150\n",
            "[===============================] - 0.0823512077331543 sec - loss: 0.05850526690483093\n",
            "Epoch: 58/150\n",
            "[===============================] - 0.07576298713684082 sec - loss: 0.040033843368291855\n",
            "Epoch: 59/150\n",
            "[===============================] - 0.07417416572570801 sec - loss: 0.08311215788125992\n",
            "Epoch: 60/150\n",
            "[===============================] - 0.06833600997924805 sec - loss: 0.062137871980667114\n",
            "Epoch: 61/150\n",
            "[===============================] - 0.07399582862854004 sec - loss: 0.10171438753604889\n",
            "Epoch: 62/150\n",
            "[===============================] - 0.08565831184387207 sec - loss: 0.07386404275894165\n",
            "Epoch: 63/150\n",
            "[===============================] - 0.0729527473449707 sec - loss: 0.1345837563276291\n",
            "Epoch: 64/150\n",
            "[===============================] - 0.07907915115356445 sec - loss: 0.11872541159391403\n",
            "Epoch: 65/150\n",
            "[===============================] - 0.08629918098449707 sec - loss: 0.15896490216255188\n",
            "Epoch: 66/150\n",
            "[===============================] - 0.07405710220336914 sec - loss: 0.1500929892063141\n",
            "Epoch: 67/150\n",
            "[===============================] - 0.0767679214477539 sec - loss: 0.2062443196773529\n",
            "Epoch: 68/150\n",
            "[===============================] - 0.07969069480895996 sec - loss: 0.18900446593761444\n",
            "Epoch: 69/150\n",
            "[===============================] - 0.07238364219665527 sec - loss: 0.248434916138649\n",
            "Epoch: 70/150\n",
            "[===============================] - 0.08051681518554688 sec - loss: 0.22843484580516815\n",
            "Epoch: 71/150\n",
            "[===============================] - 0.07788324356079102 sec - loss: 0.3126180171966553\n",
            "Epoch: 72/150\n",
            "[===============================] - 0.07312488555908203 sec - loss: 0.2248625010251999\n",
            "Epoch: 73/150\n",
            "[===============================] - 0.07221865653991699 sec - loss: 0.36394912004470825\n",
            "Epoch: 74/150\n",
            "[===============================] - 0.06847167015075684 sec - loss: 0.27492889761924744\n",
            "Epoch: 75/150\n",
            "[===============================] - 0.07744050025939941 sec - loss: 0.40495339035987854\n",
            "Epoch: 76/150\n",
            "[===============================] - 0.06673598289489746 sec - loss: 0.273857444524765\n",
            "Epoch: 77/150\n",
            "[===============================] - 0.06836056709289551 sec - loss: 0.41553887724876404\n",
            "Epoch: 78/150\n",
            "[===============================] - 0.0782766342163086 sec - loss: 0.3089224696159363\n",
            "Epoch: 79/150\n",
            "[===============================] - 0.07375597953796387 sec - loss: 0.43584463000297546\n",
            "Epoch: 80/150\n",
            "[===============================] - 0.07137703895568848 sec - loss: 0.29820260405540466\n",
            "Epoch: 81/150\n",
            "[===============================] - 0.07462120056152344 sec - loss: 0.45504847168922424\n",
            "Epoch: 82/150\n",
            "[===============================] - 0.07556772232055664 sec - loss: 0.3288598954677582\n",
            "Epoch: 83/150\n",
            "[===============================] - 0.06865143775939941 sec - loss: 0.47043508291244507\n",
            "Epoch: 84/150\n",
            "[===============================] - 0.07417178153991699 sec - loss: 0.3631495237350464\n",
            "Epoch: 85/150\n",
            "[===============================] - 0.07125973701477051 sec - loss: 0.49060654640197754\n",
            "Epoch: 86/150\n",
            "[===============================] - 0.0657799243927002 sec - loss: 0.33044373989105225\n",
            "Epoch: 87/150\n",
            "[===============================] - 0.07057929039001465 sec - loss: 0.47325599193573\n",
            "Epoch: 88/150\n",
            "[===============================] - 0.06732845306396484 sec - loss: 0.39253807067871094\n",
            "Epoch: 89/150\n",
            "[===============================] - 0.06970787048339844 sec - loss: 0.5359560251235962\n",
            "Epoch: 90/150\n",
            "[===============================] - 0.07614016532897949 sec - loss: 0.3539154529571533\n",
            "Epoch: 91/150\n",
            "[===============================] - 0.06725478172302246 sec - loss: 0.4890095591545105\n",
            "Epoch: 92/150\n",
            "[===============================] - 0.07376813888549805 sec - loss: 0.40015938878059387\n",
            "Epoch: 93/150\n",
            "[===============================] - 0.06773924827575684 sec - loss: 0.5660784840583801\n",
            "Epoch: 94/150\n",
            "[===============================] - 0.07091808319091797 sec - loss: 0.37314116954803467\n",
            "Epoch: 95/150\n",
            "[===============================] - 0.07145977020263672 sec - loss: 0.4812546968460083\n",
            "Epoch: 96/150\n",
            "[===============================] - 0.06859827041625977 sec - loss: 0.40800175070762634\n",
            "Epoch: 97/150\n",
            "[===============================] - 0.0691688060760498 sec - loss: 0.5870539546012878\n",
            "Epoch: 98/150\n",
            "[===============================] - 0.08365225791931152 sec - loss: 0.35437634587287903\n",
            "Epoch: 99/150\n",
            "[===============================] - 0.06672358512878418 sec - loss: 0.46224746108055115\n",
            "Epoch: 100/150\n",
            "[===============================] - 0.06903767585754395 sec - loss: 0.43153393268585205\n",
            "Epoch: 101/150\n",
            "[===============================] - 0.06946325302124023 sec - loss: 0.6299359202384949\n",
            "Epoch: 102/150\n",
            "[===============================] - 0.06666016578674316 sec - loss: 0.3242505192756653\n",
            "Epoch: 103/150\n",
            "[===============================] - 0.06918072700500488 sec - loss: 0.4423907399177551\n",
            "Epoch: 104/150\n",
            "[===============================] - 0.07493114471435547 sec - loss: 0.4675356149673462\n",
            "Epoch: 105/150\n",
            "[===============================] - 0.0697774887084961 sec - loss: 0.6468890309333801\n",
            "Epoch: 106/150\n",
            "[===============================] - 0.06755328178405762 sec - loss: 0.3174351751804352\n",
            "Epoch: 107/150\n",
            "[===============================] - 0.08449578285217285 sec - loss: 0.4239324629306793\n",
            "Epoch: 108/150\n",
            "[===============================] - 0.0688023567199707 sec - loss: 0.4511308968067169\n",
            "Epoch: 109/150\n",
            "[===============================] - 0.06859636306762695 sec - loss: 0.7058232426643372\n",
            "Epoch: 110/150\n",
            "[===============================] - 0.07617545127868652 sec - loss: 0.3122903108596802\n",
            "Epoch: 111/150\n",
            "[===============================] - 0.0656576156616211 sec - loss: 0.37628838419914246\n",
            "Epoch: 112/150\n",
            "[===============================] - 0.07201147079467773 sec - loss: 0.45734769105911255\n",
            "Epoch: 113/150\n",
            "[===============================] - 0.08325576782226562 sec - loss: 0.7970699071884155\n",
            "Epoch: 114/150\n",
            "[===============================] - 0.06447744369506836 sec - loss: 0.2868049144744873\n",
            "Epoch: 115/150\n",
            "[===============================] - 0.09257340431213379 sec - loss: 0.28876957297325134\n",
            "Epoch: 116/150\n",
            "[===============================] - 0.06952571868896484 sec - loss: 0.44636815786361694\n",
            "Epoch: 117/150\n",
            "[===============================] - 0.06885719299316406 sec - loss: 0.959830641746521\n",
            "Epoch: 118/150\n",
            "[===============================] - 0.07100176811218262 sec - loss: 0.22319413721561432\n",
            "Epoch: 119/150\n",
            "[===============================] - 0.06980061531066895 sec - loss: 0.17109766602516174\n",
            "Epoch: 120/150\n",
            "[===============================] - 0.07700204849243164 sec - loss: 0.3596738874912262\n",
            "Epoch: 121/150\n",
            "[===============================] - 0.07209277153015137 sec - loss: 1.3224234580993652\n",
            "Epoch: 122/150\n",
            "[===============================] - 0.06657147407531738 sec - loss: 0.17269273102283478\n",
            "Epoch: 123/150\n",
            "[===============================] - 0.06891298294067383 sec - loss: 0.05725661665201187\n",
            "Epoch: 124/150\n",
            "[===============================] - 0.07209992408752441 sec - loss: 0.11251600831747055\n",
            "Epoch: 125/150\n",
            "[===============================] - 0.0673513412475586 sec - loss: 1.282881736755371\n",
            "Epoch: 126/150\n",
            "[===============================] - 0.07090616226196289 sec - loss: 0.44024303555488586\n",
            "Epoch: 127/150\n",
            "[===============================] - 0.07806611061096191 sec - loss: 0.11802113801240921\n",
            "Epoch: 128/150\n",
            "[===============================] - 0.07011604309082031 sec - loss: 0.1097269207239151\n",
            "Epoch: 129/150\n",
            "[===============================] - 0.07352089881896973 sec - loss: 0.9143392443656921\n",
            "Epoch: 130/150\n",
            "[===============================] - 0.09111833572387695 sec - loss: 0.6869426369667053\n",
            "Epoch: 131/150\n",
            "[===============================] - 0.06794595718383789 sec - loss: 0.19548867642879486\n",
            "Epoch: 132/150\n",
            "[===============================] - 0.0791161060333252 sec - loss: 0.10622745752334595\n",
            "Epoch: 133/150\n",
            "[===============================] - 0.07454586029052734 sec - loss: 0.6733413934707642\n",
            "Epoch: 134/150\n",
            "[===============================] - 0.08406186103820801 sec - loss: 0.8347974419593811\n",
            "Epoch: 135/150\n",
            "[===============================] - 0.06779003143310547 sec - loss: 0.28549012541770935\n",
            "Epoch: 136/150\n",
            "[===============================] - 0.06769108772277832 sec - loss: 0.1021459773182869\n",
            "Epoch: 137/150\n",
            "[===============================] - 0.07108449935913086 sec - loss: 0.4864800274372101\n",
            "Epoch: 138/150\n",
            "[===============================] - 0.06619977951049805 sec - loss: 0.8543914556503296\n",
            "Epoch: 139/150\n",
            "[===============================] - 0.06421709060668945 sec - loss: 0.4267626702785492\n",
            "Epoch: 140/150\n",
            "[===============================] - 0.0732574462890625 sec - loss: 0.12698118388652802\n",
            "Epoch: 141/150\n",
            "[===============================] - 0.069000244140625 sec - loss: 0.39757153391838074\n",
            "Epoch: 142/150\n",
            "[===============================] - 0.06357431411743164 sec - loss: 0.7215316891670227\n",
            "Epoch: 143/150\n",
            "[===============================] - 0.06987905502319336 sec - loss: 0.614901602268219\n",
            "Epoch: 144/150\n",
            "[===============================] - 0.06612563133239746 sec - loss: 0.1519712656736374\n",
            "Epoch: 145/150\n",
            "[===============================] - 0.0669260025024414 sec - loss: 0.2842682898044586\n",
            "Epoch: 146/150\n",
            "[===============================] - 0.07269668579101562 sec - loss: 0.55391925573349\n",
            "Epoch: 147/150\n",
            "[===============================] - 0.06696724891662598 sec - loss: 0.9346346259117126\n",
            "Epoch: 148/150\n",
            "[===============================] - 0.0720829963684082 sec - loss: 0.13907772302627563\n",
            "Epoch: 149/150\n",
            "[===============================] - 0.07304525375366211 sec - loss: 0.10510090738534927\n",
            "Epoch: 150/150\n",
            "[===============================] - 0.07009482383728027 sec - loss: 0.27224236726760864\n"
          ],
          "name": "stdout"
        }
      ]
    },
    {
      "cell_type": "markdown",
      "metadata": {
        "id": "OqJMre6D-4TJ"
      },
      "source": [
        "# Results"
      ]
    },
    {
      "cell_type": "code",
      "metadata": {
        "id": "aZ3v5-f6ZoCE",
        "outputId": "d5a2f8f1-53fc-44bc-917f-e8e17e4d3390",
        "colab": {
          "base_uri": "https://localhost:8080/",
          "height": 187
        }
      },
      "source": [
        "data[800:810]"
      ],
      "execution_count": null,
      "outputs": [
        {
          "output_type": "execute_result",
          "data": {
            "text/plain": [
              "array([[78., 14.],\n",
              "       [71.,  4.],\n",
              "       [80., 32.],\n",
              "       [45., 66.],\n",
              "       [24., 31.],\n",
              "       [29., 95.],\n",
              "       [18., 88.],\n",
              "       [37., 47.],\n",
              "       [ 0.,  4.],\n",
              "       [42., 62.]], dtype=float32)"
            ]
          },
          "metadata": {
            "tags": []
          },
          "execution_count": 165
        }
      ]
    },
    {
      "cell_type": "code",
      "metadata": {
        "id": "QiR1k19dzyak",
        "outputId": "6429313c-b8d5-43f9-c8da-4b90f2189ebe",
        "colab": {
          "base_uri": "https://localhost:8080/",
          "height": 204
        }
      },
      "source": [
        "print(['x', 'y', 'expected', 'actual'])\n",
        "print(np.concatenate((data[800:810], data_labels[800:810], predict(data[800:810], 5)), axis=1))"
      ],
      "execution_count": null,
      "outputs": [
        {
          "output_type": "stream",
          "text": [
            "['x', 'y', 'expected', 'actual']\n",
            "[[ 78.         14.         92.         93.08092  ]\n",
            " [ 71.          4.         75.         75.84067  ]\n",
            " [ 80.         32.        112.        113.329124 ]\n",
            " [ 45.         66.        111.        112.562935 ]\n",
            " [ 24.         31.         55.         55.782898 ]\n",
            " [ 29.         95.        124.        125.84985  ]\n",
            " [ 18.         88.        106.        107.66613  ]\n",
            " [ 37.         47.         84.         85.16675  ]\n",
            " [  0.          4.          4.          3.9735866]\n",
            " [ 42.         62.        104.        105.46961  ]]\n"
          ],
          "name": "stdout"
        }
      ]
    },
    {
      "cell_type": "code",
      "metadata": {
        "id": "_wHPRONEGV-L",
        "outputId": "5d8aa47b-9985-421d-b3ff-67b819151f31",
        "colab": {
          "base_uri": "https://localhost:8080/",
          "height": 295
        }
      },
      "source": [
        "plt.semilogy(fitres['loss'])\n",
        "plt.title('model loss')\n",
        "plt.ylabel('loss')\n",
        "plt.xlabel('epoch')\n",
        "plt.legend(['train'], loc='upper right')\n",
        "plt.show()"
      ],
      "execution_count": null,
      "outputs": [
        {
          "output_type": "display_data",
          "data": {
            "image/png": "[encoded data removed]",
            "text/plain": [
              "<Figure size 432x288 with 1 Axes>"
            ]
          },
          "metadata": {
            "tags": [],
            "needs_background": "light"
          }
        }
      ]
    }
  ]
}