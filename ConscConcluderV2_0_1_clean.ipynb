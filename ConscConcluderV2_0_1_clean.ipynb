{
  "nbformat": 4,
  "nbformat_minor": 0,
  "metadata": {
    "colab": {
      "name": "ConscConcluderV2-0.1-clean.ipynb",
      "provenance": [],
      "toc_visible": true,
      "authorship_tag": "ABX9TyP8yKYxHXwpQIhmwiZcD29s",
      "include_colab_link": true
    },
    "kernelspec": {
      "name": "python3",
      "display_name": "Python 3"
    }
  },
  "cells": [
    {
      "cell_type": "markdown",
      "metadata": {
        "id": "view-in-github",
        "colab_type": "text"
      },
      "source": [
        "<a href=\"https://colab.research.google.com/github/toaomalkster/conscious-calculator-notebooks/blob/feature%2F20201025-load-existing-notebooks/ConscConcluderV2_0_1_clean.ipynb\" target=\"_parent\"><img src=\"https://colab.research.google.com/assets/colab-badge.svg\" alt=\"Open In Colab\"/></a>"
      ]
    },
    {
      "cell_type": "markdown",
      "metadata": {
        "id": "D7LX96lpBYkT"
      },
      "source": [
        "# Conscious Concluder _(Theory V2)_\n",
        "0.1-clean:\n",
        "* Cleaned up version of 0.1."
      ]
    },
    {
      "cell_type": "markdown",
      "metadata": {
        "id": "YL5HKtzQRHWg"
      },
      "source": [
        "**App Boilerplate**"
      ]
    },
    {
      "cell_type": "code",
      "metadata": {
        "id": "9ruY3TtqP1gb",
        "outputId": "fa584650-987c-4aac-e478-df4d3cc908aa",
        "colab": {
          "base_uri": "https://localhost:8080/",
          "height": 34
        }
      },
      "source": [
        "\n",
        "# TensorFlow and tf.keras\n",
        "import tensorflow as tf\n",
        "from tensorflow import keras\n",
        "\n",
        "# Helper libraries\n",
        "import numpy as np\n",
        "import matplotlib.pyplot as plt\n",
        "\n",
        "print(tf.__version__)\n"
      ],
      "execution_count": null,
      "outputs": [
        {
          "output_type": "stream",
          "text": [
            "2.3.0\n"
          ],
          "name": "stdout"
        }
      ]
    },
    {
      "cell_type": "markdown",
      "metadata": {
        "id": "OuRO0frKRXNG"
      },
      "source": [
        "# Setup Training Data"
      ]
    },
    {
      "cell_type": "code",
      "metadata": {
        "id": "u9uKG-DgmzBj",
        "outputId": "6a5735ee-d558-4321-ecf9-5a5a17a03e04",
        "colab": {
          "base_uri": "https://localhost:8080/",
          "height": 187
        }
      },
      "source": [
        "data = np.random.randint(100, size=(1000, 2))\n",
        "data[0:10,:]"
      ],
      "execution_count": null,
      "outputs": [
        {
          "output_type": "execute_result",
          "data": {
            "text/plain": [
              "array([[84, 41],\n",
              "       [28, 12],\n",
              "       [20, 83],\n",
              "       [84, 44],\n",
              "       [13, 28],\n",
              "       [18, 60],\n",
              "       [61, 42],\n",
              "       [42, 55],\n",
              "       [30, 15],\n",
              "       [95, 41]])"
            ]
          },
          "metadata": {
            "tags": []
          },
          "execution_count": 4
        }
      ]
    },
    {
      "cell_type": "code",
      "metadata": {
        "id": "8MFPbop0pOxh",
        "outputId": "150fa414-3049-44a9-d25a-966b749906f1",
        "colab": {
          "base_uri": "https://localhost:8080/",
          "height": 187
        }
      },
      "source": [
        "data_labels = (data[:,0] + data[:,1])[:,np.newaxis]\n",
        "data_labels[0:10,:]"
      ],
      "execution_count": null,
      "outputs": [
        {
          "output_type": "execute_result",
          "data": {
            "text/plain": [
              "array([[125],\n",
              "       [ 40],\n",
              "       [103],\n",
              "       [128],\n",
              "       [ 41],\n",
              "       [ 78],\n",
              "       [103],\n",
              "       [ 97],\n",
              "       [ 45],\n",
              "       [136]])"
            ]
          },
          "metadata": {
            "tags": []
          },
          "execution_count": 5
        }
      ]
    },
    {
      "cell_type": "markdown",
      "metadata": {
        "id": "zvA_cusOu2oW"
      },
      "source": [
        "# Setup Model"
      ]
    },
    {
      "cell_type": "code",
      "metadata": {
        "id": "s0FP7IDJu_Yy",
        "outputId": "05e45a2c-0447-467e-e8b4-2b4bd9e7a219",
        "colab": {
          "base_uri": "https://localhost:8080/",
          "height": 221
        }
      },
      "source": [
        "model = keras.Sequential([\n",
        "    keras.layers.InputLayer(input_shape=(2,)),\n",
        "    keras.layers.Dense(1000, activation='relu'),\n",
        "    keras.layers.Dense(1)\n",
        "])\n",
        "model.compile(optimizer='adam',\n",
        "              loss=tf.keras.losses.MeanSquaredError())\n",
        "model.summary()"
      ],
      "execution_count": null,
      "outputs": [
        {
          "output_type": "stream",
          "text": [
            "Model: \"sequential\"\n",
            "_________________________________________________________________\n",
            "Layer (type)                 Output Shape              Param #   \n",
            "=================================================================\n",
            "dense (Dense)                (None, 1000)              3000      \n",
            "_________________________________________________________________\n",
            "dense_1 (Dense)              (None, 1)                 1001      \n",
            "=================================================================\n",
            "Total params: 4,001\n",
            "Trainable params: 4,001\n",
            "Non-trainable params: 0\n",
            "_________________________________________________________________\n"
          ],
          "name": "stdout"
        }
      ]
    },
    {
      "cell_type": "code",
      "metadata": {
        "id": "x1X6bUtdwsiu",
        "outputId": "1fbf0921-0397-406b-8a48-b384c7f54994",
        "colab": {
          "base_uri": "https://localhost:8080/",
          "height": 1000
        }
      },
      "source": [
        "fitres = model.fit(data, data_labels, validation_split=0.2, shuffle=True, epochs=150)"
      ],
      "execution_count": null,
      "outputs": [
        {
          "output_type": "stream",
          "text": [
            "Epoch 1/150\n",
            "25/25 [==============================] - 0s 7ms/step - loss: 4759.3730 - val_loss: 221.9981\n",
            "Epoch 2/150\n",
            "25/25 [==============================] - 0s 2ms/step - loss: 113.6856 - val_loss: 29.6560\n",
            "Epoch 3/150\n",
            "25/25 [==============================] - 0s 2ms/step - loss: 13.8795 - val_loss: 6.2120\n",
            "Epoch 4/150\n",
            "25/25 [==============================] - 0s 2ms/step - loss: 4.7354 - val_loss: 3.1965\n",
            "Epoch 5/150\n",
            "25/25 [==============================] - 0s 2ms/step - loss: 2.6691 - val_loss: 2.2676\n",
            "Epoch 6/150\n",
            "25/25 [==============================] - 0s 2ms/step - loss: 1.8135 - val_loss: 1.5645\n",
            "Epoch 7/150\n",
            "25/25 [==============================] - 0s 2ms/step - loss: 1.2468 - val_loss: 1.0876\n",
            "Epoch 8/150\n",
            "25/25 [==============================] - 0s 2ms/step - loss: 0.8514 - val_loss: 0.7881\n",
            "Epoch 9/150\n",
            "25/25 [==============================] - 0s 2ms/step - loss: 0.6066 - val_loss: 0.5711\n",
            "Epoch 10/150\n",
            "25/25 [==============================] - 0s 2ms/step - loss: 0.4333 - val_loss: 0.4226\n",
            "Epoch 11/150\n",
            "25/25 [==============================] - 0s 2ms/step - loss: 0.3220 - val_loss: 0.3261\n",
            "Epoch 12/150\n",
            "25/25 [==============================] - 0s 2ms/step - loss: 0.2525 - val_loss: 0.2706\n",
            "Epoch 13/150\n",
            "25/25 [==============================] - 0s 2ms/step - loss: 0.2060 - val_loss: 0.2282\n",
            "Epoch 14/150\n",
            "25/25 [==============================] - 0s 3ms/step - loss: 0.1767 - val_loss: 0.1959\n",
            "Epoch 15/150\n",
            "25/25 [==============================] - 0s 2ms/step - loss: 0.1577 - val_loss: 0.1777\n",
            "Epoch 16/150\n",
            "25/25 [==============================] - 0s 2ms/step - loss: 0.1405 - val_loss: 0.1628\n",
            "Epoch 17/150\n",
            "25/25 [==============================] - 0s 2ms/step - loss: 0.1307 - val_loss: 0.1508\n",
            "Epoch 18/150\n",
            "25/25 [==============================] - 0s 2ms/step - loss: 0.1201 - val_loss: 0.1423\n",
            "Epoch 19/150\n",
            "25/25 [==============================] - 0s 2ms/step - loss: 0.1123 - val_loss: 0.1315\n",
            "Epoch 20/150\n",
            "25/25 [==============================] - 0s 2ms/step - loss: 0.1047 - val_loss: 0.1238\n",
            "Epoch 21/150\n",
            "25/25 [==============================] - 0s 2ms/step - loss: 0.0982 - val_loss: 0.1165\n",
            "Epoch 22/150\n",
            "25/25 [==============================] - 0s 2ms/step - loss: 0.0926 - val_loss: 0.1118\n",
            "Epoch 23/150\n",
            "25/25 [==============================] - 0s 2ms/step - loss: 0.0868 - val_loss: 0.1038\n",
            "Epoch 24/150\n",
            "25/25 [==============================] - 0s 2ms/step - loss: 0.0812 - val_loss: 0.1001\n",
            "Epoch 25/150\n",
            "25/25 [==============================] - 0s 2ms/step - loss: 0.0777 - val_loss: 0.0951\n",
            "Epoch 26/150\n",
            "25/25 [==============================] - 0s 2ms/step - loss: 0.0724 - val_loss: 0.0883\n",
            "Epoch 27/150\n",
            "25/25 [==============================] - 0s 2ms/step - loss: 0.0685 - val_loss: 0.0822\n",
            "Epoch 28/150\n",
            "25/25 [==============================] - 0s 2ms/step - loss: 0.0649 - val_loss: 0.0794\n",
            "Epoch 29/150\n",
            "25/25 [==============================] - 0s 2ms/step - loss: 0.0620 - val_loss: 0.0745\n",
            "Epoch 30/150\n",
            "25/25 [==============================] - 0s 3ms/step - loss: 0.0583 - val_loss: 0.0706\n",
            "Epoch 31/150\n",
            "25/25 [==============================] - 0s 2ms/step - loss: 0.0554 - val_loss: 0.0685\n",
            "Epoch 32/150\n",
            "25/25 [==============================] - 0s 2ms/step - loss: 0.0529 - val_loss: 0.0648\n",
            "Epoch 33/150\n",
            "25/25 [==============================] - 0s 2ms/step - loss: 0.0501 - val_loss: 0.0606\n",
            "Epoch 34/150\n",
            "25/25 [==============================] - 0s 2ms/step - loss: 0.0482 - val_loss: 0.0589\n",
            "Epoch 35/150\n",
            "25/25 [==============================] - 0s 2ms/step - loss: 0.0458 - val_loss: 0.0571\n",
            "Epoch 36/150\n",
            "25/25 [==============================] - 0s 2ms/step - loss: 0.0438 - val_loss: 0.0534\n",
            "Epoch 37/150\n",
            "25/25 [==============================] - 0s 2ms/step - loss: 0.0416 - val_loss: 0.0536\n",
            "Epoch 38/150\n",
            "25/25 [==============================] - 0s 2ms/step - loss: 0.0401 - val_loss: 0.0496\n",
            "Epoch 39/150\n",
            "25/25 [==============================] - 0s 2ms/step - loss: 0.0381 - val_loss: 0.0470\n",
            "Epoch 40/150\n",
            "25/25 [==============================] - 0s 2ms/step - loss: 0.0371 - val_loss: 0.0443\n",
            "Epoch 41/150\n",
            "25/25 [==============================] - 0s 2ms/step - loss: 0.0358 - val_loss: 0.0445\n",
            "Epoch 42/150\n",
            "25/25 [==============================] - 0s 2ms/step - loss: 0.0338 - val_loss: 0.0440\n",
            "Epoch 43/150\n",
            "25/25 [==============================] - 0s 2ms/step - loss: 0.0325 - val_loss: 0.0391\n",
            "Epoch 44/150\n",
            "25/25 [==============================] - 0s 2ms/step - loss: 0.0310 - val_loss: 0.0382\n",
            "Epoch 45/150\n",
            "25/25 [==============================] - 0s 2ms/step - loss: 0.0299 - val_loss: 0.0368\n",
            "Epoch 46/150\n",
            "25/25 [==============================] - 0s 2ms/step - loss: 0.0285 - val_loss: 0.0346\n",
            "Epoch 47/150\n",
            "25/25 [==============================] - 0s 2ms/step - loss: 0.0278 - val_loss: 0.0347\n",
            "Epoch 48/150\n",
            "25/25 [==============================] - 0s 2ms/step - loss: 0.0268 - val_loss: 0.0318\n",
            "Epoch 49/150\n",
            "25/25 [==============================] - 0s 2ms/step - loss: 0.0265 - val_loss: 0.0326\n",
            "Epoch 50/150\n",
            "25/25 [==============================] - 0s 2ms/step - loss: 0.0246 - val_loss: 0.0301\n",
            "Epoch 51/150\n",
            "25/25 [==============================] - 0s 2ms/step - loss: 0.0235 - val_loss: 0.0293\n",
            "Epoch 52/150\n",
            "25/25 [==============================] - 0s 2ms/step - loss: 0.0225 - val_loss: 0.0275\n",
            "Epoch 53/150\n",
            "25/25 [==============================] - 0s 2ms/step - loss: 0.0217 - val_loss: 0.0261\n",
            "Epoch 54/150\n",
            "25/25 [==============================] - 0s 2ms/step - loss: 0.0207 - val_loss: 0.0255\n",
            "Epoch 55/150\n",
            "25/25 [==============================] - 0s 2ms/step - loss: 0.0201 - val_loss: 0.0245\n",
            "Epoch 56/150\n",
            "25/25 [==============================] - 0s 2ms/step - loss: 0.0191 - val_loss: 0.0231\n",
            "Epoch 57/150\n",
            "25/25 [==============================] - 0s 2ms/step - loss: 0.0182 - val_loss: 0.0224\n",
            "Epoch 58/150\n",
            "25/25 [==============================] - 0s 2ms/step - loss: 0.0175 - val_loss: 0.0220\n",
            "Epoch 59/150\n",
            "25/25 [==============================] - 0s 2ms/step - loss: 0.0168 - val_loss: 0.0205\n",
            "Epoch 60/150\n",
            "25/25 [==============================] - 0s 2ms/step - loss: 0.0163 - val_loss: 0.0195\n",
            "Epoch 61/150\n",
            "25/25 [==============================] - 0s 2ms/step - loss: 0.0155 - val_loss: 0.0192\n",
            "Epoch 62/150\n",
            "25/25 [==============================] - 0s 2ms/step - loss: 0.0149 - val_loss: 0.0182\n",
            "Epoch 63/150\n",
            "25/25 [==============================] - 0s 2ms/step - loss: 0.0142 - val_loss: 0.0175\n",
            "Epoch 64/150\n",
            "25/25 [==============================] - 0s 2ms/step - loss: 0.0138 - val_loss: 0.0168\n",
            "Epoch 65/150\n",
            "25/25 [==============================] - 0s 2ms/step - loss: 0.0133 - val_loss: 0.0163\n",
            "Epoch 66/150\n",
            "25/25 [==============================] - 0s 2ms/step - loss: 0.0125 - val_loss: 0.0159\n",
            "Epoch 67/150\n",
            "25/25 [==============================] - 0s 2ms/step - loss: 0.0124 - val_loss: 0.0147\n",
            "Epoch 68/150\n",
            "25/25 [==============================] - 0s 2ms/step - loss: 0.0121 - val_loss: 0.0140\n",
            "Epoch 69/150\n",
            "25/25 [==============================] - 0s 2ms/step - loss: 0.0110 - val_loss: 0.0142\n",
            "Epoch 70/150\n",
            "25/25 [==============================] - 0s 2ms/step - loss: 0.0106 - val_loss: 0.0129\n",
            "Epoch 71/150\n",
            "25/25 [==============================] - 0s 2ms/step - loss: 0.0103 - val_loss: 0.0124\n",
            "Epoch 72/150\n",
            "25/25 [==============================] - 0s 2ms/step - loss: 0.0097 - val_loss: 0.0122\n",
            "Epoch 73/150\n",
            "25/25 [==============================] - 0s 3ms/step - loss: 0.0093 - val_loss: 0.0113\n",
            "Epoch 74/150\n",
            "25/25 [==============================] - 0s 2ms/step - loss: 0.0088 - val_loss: 0.0112\n",
            "Epoch 75/150\n",
            "25/25 [==============================] - 0s 2ms/step - loss: 0.0086 - val_loss: 0.0105\n",
            "Epoch 76/150\n",
            "25/25 [==============================] - 0s 2ms/step - loss: 0.0083 - val_loss: 0.0101\n",
            "Epoch 77/150\n",
            "25/25 [==============================] - 0s 2ms/step - loss: 0.0079 - val_loss: 0.0098\n",
            "Epoch 78/150\n",
            "25/25 [==============================] - 0s 2ms/step - loss: 0.0074 - val_loss: 0.0093\n",
            "Epoch 79/150\n",
            "25/25 [==============================] - 0s 2ms/step - loss: 0.0070 - val_loss: 0.0087\n",
            "Epoch 80/150\n",
            "25/25 [==============================] - 0s 2ms/step - loss: 0.0068 - val_loss: 0.0086\n",
            "Epoch 81/150\n",
            "25/25 [==============================] - 0s 2ms/step - loss: 0.0064 - val_loss: 0.0080\n",
            "Epoch 82/150\n",
            "25/25 [==============================] - 0s 2ms/step - loss: 0.0061 - val_loss: 0.0076\n",
            "Epoch 83/150\n",
            "25/25 [==============================] - 0s 3ms/step - loss: 0.0058 - val_loss: 0.0074\n",
            "Epoch 84/150\n",
            "25/25 [==============================] - 0s 2ms/step - loss: 0.0056 - val_loss: 0.0069\n",
            "Epoch 85/150\n",
            "25/25 [==============================] - 0s 2ms/step - loss: 0.0053 - val_loss: 0.0068\n",
            "Epoch 86/150\n",
            "25/25 [==============================] - 0s 2ms/step - loss: 0.0051 - val_loss: 0.0062\n",
            "Epoch 87/150\n",
            "25/25 [==============================] - 0s 2ms/step - loss: 0.0048 - val_loss: 0.0061\n",
            "Epoch 88/150\n",
            "25/25 [==============================] - 0s 3ms/step - loss: 0.0047 - val_loss: 0.0058\n",
            "Epoch 89/150\n",
            "25/25 [==============================] - 0s 2ms/step - loss: 0.0043 - val_loss: 0.0057\n",
            "Epoch 90/150\n",
            "25/25 [==============================] - 0s 2ms/step - loss: 0.0041 - val_loss: 0.0053\n",
            "Epoch 91/150\n",
            "25/25 [==============================] - 0s 3ms/step - loss: 0.0040 - val_loss: 0.0050\n",
            "Epoch 92/150\n",
            "25/25 [==============================] - 0s 2ms/step - loss: 0.0037 - val_loss: 0.0049\n",
            "Epoch 93/150\n",
            "25/25 [==============================] - 0s 2ms/step - loss: 0.0036 - val_loss: 0.0046\n",
            "Epoch 94/150\n",
            "25/25 [==============================] - 0s 2ms/step - loss: 0.0034 - val_loss: 0.0043\n",
            "Epoch 95/150\n",
            "25/25 [==============================] - 0s 2ms/step - loss: 0.0033 - val_loss: 0.0047\n",
            "Epoch 96/150\n",
            "25/25 [==============================] - 0s 2ms/step - loss: 0.0031 - val_loss: 0.0039\n",
            "Epoch 97/150\n",
            "25/25 [==============================] - 0s 2ms/step - loss: 0.0029 - val_loss: 0.0039\n",
            "Epoch 98/150\n",
            "25/25 [==============================] - 0s 2ms/step - loss: 0.0028 - val_loss: 0.0035\n",
            "Epoch 99/150\n",
            "25/25 [==============================] - 0s 2ms/step - loss: 0.0026 - val_loss: 0.0035\n",
            "Epoch 100/150\n",
            "25/25 [==============================] - 0s 2ms/step - loss: 0.0025 - val_loss: 0.0034\n",
            "Epoch 101/150\n",
            "25/25 [==============================] - 0s 2ms/step - loss: 0.0023 - val_loss: 0.0031\n",
            "Epoch 102/150\n",
            "25/25 [==============================] - 0s 2ms/step - loss: 0.0022 - val_loss: 0.0029\n",
            "Epoch 103/150\n",
            "25/25 [==============================] - 0s 2ms/step - loss: 0.0021 - val_loss: 0.0030\n",
            "Epoch 104/150\n",
            "25/25 [==============================] - 0s 2ms/step - loss: 0.0020 - val_loss: 0.0027\n",
            "Epoch 105/150\n",
            "25/25 [==============================] - 0s 3ms/step - loss: 0.0019 - val_loss: 0.0025\n",
            "Epoch 106/150\n",
            "25/25 [==============================] - 0s 2ms/step - loss: 0.0019 - val_loss: 0.0025\n",
            "Epoch 107/150\n",
            "25/25 [==============================] - 0s 2ms/step - loss: 0.0017 - val_loss: 0.0023\n",
            "Epoch 108/150\n",
            "25/25 [==============================] - 0s 2ms/step - loss: 0.0016 - val_loss: 0.0022\n",
            "Epoch 109/150\n",
            "25/25 [==============================] - 0s 2ms/step - loss: 0.0015 - val_loss: 0.0021\n",
            "Epoch 110/150\n",
            "25/25 [==============================] - 0s 2ms/step - loss: 0.0014 - val_loss: 0.0020\n",
            "Epoch 111/150\n",
            "25/25 [==============================] - 0s 2ms/step - loss: 0.0013 - val_loss: 0.0018\n",
            "Epoch 112/150\n",
            "25/25 [==============================] - 0s 2ms/step - loss: 0.0013 - val_loss: 0.0018\n",
            "Epoch 113/150\n",
            "25/25 [==============================] - 0s 2ms/step - loss: 0.0012 - val_loss: 0.0019\n",
            "Epoch 114/150\n",
            "25/25 [==============================] - 0s 2ms/step - loss: 0.0011 - val_loss: 0.0016\n",
            "Epoch 115/150\n",
            "25/25 [==============================] - 0s 2ms/step - loss: 0.0011 - val_loss: 0.0014\n",
            "Epoch 116/150\n",
            "25/25 [==============================] - 0s 2ms/step - loss: 9.9634e-04 - val_loss: 0.0014\n",
            "Epoch 117/150\n",
            "25/25 [==============================] - 0s 2ms/step - loss: 9.4939e-04 - val_loss: 0.0013\n",
            "Epoch 118/150\n",
            "25/25 [==============================] - 0s 2ms/step - loss: 8.9668e-04 - val_loss: 0.0013\n",
            "Epoch 119/150\n",
            "25/25 [==============================] - 0s 2ms/step - loss: 8.4159e-04 - val_loss: 0.0013\n",
            "Epoch 120/150\n",
            "25/25 [==============================] - 0s 2ms/step - loss: 8.0996e-04 - val_loss: 0.0011\n",
            "Epoch 121/150\n",
            "25/25 [==============================] - 0s 2ms/step - loss: 7.6094e-04 - val_loss: 0.0011\n",
            "Epoch 122/150\n",
            "25/25 [==============================] - 0s 2ms/step - loss: 7.0566e-04 - val_loss: 0.0011\n",
            "Epoch 123/150\n",
            "25/25 [==============================] - 0s 2ms/step - loss: 6.7641e-04 - val_loss: 0.0011\n",
            "Epoch 124/150\n",
            "25/25 [==============================] - 0s 2ms/step - loss: 6.3316e-04 - val_loss: 0.0010\n",
            "Epoch 125/150\n",
            "25/25 [==============================] - 0s 2ms/step - loss: 5.9044e-04 - val_loss: 9.8368e-04\n",
            "Epoch 126/150\n",
            "25/25 [==============================] - 0s 2ms/step - loss: 5.4829e-04 - val_loss: 8.3706e-04\n",
            "Epoch 127/150\n",
            "25/25 [==============================] - 0s 2ms/step - loss: 5.2579e-04 - val_loss: 8.0486e-04\n",
            "Epoch 128/150\n",
            "25/25 [==============================] - 0s 2ms/step - loss: 5.1673e-04 - val_loss: 9.0640e-04\n",
            "Epoch 129/150\n",
            "25/25 [==============================] - 0s 2ms/step - loss: 5.1870e-04 - val_loss: 7.4852e-04\n",
            "Epoch 130/150\n",
            "25/25 [==============================] - 0s 2ms/step - loss: 4.7480e-04 - val_loss: 7.6319e-04\n",
            "Epoch 131/150\n",
            "25/25 [==============================] - 0s 3ms/step - loss: 4.1575e-04 - val_loss: 6.9563e-04\n",
            "Epoch 132/150\n",
            "25/25 [==============================] - 0s 2ms/step - loss: 4.0101e-04 - val_loss: 6.4197e-04\n",
            "Epoch 133/150\n",
            "25/25 [==============================] - 0s 2ms/step - loss: 3.6998e-04 - val_loss: 6.2674e-04\n",
            "Epoch 134/150\n",
            "25/25 [==============================] - 0s 2ms/step - loss: 3.5856e-04 - val_loss: 5.9834e-04\n",
            "Epoch 135/150\n",
            "25/25 [==============================] - 0s 2ms/step - loss: 3.3547e-04 - val_loss: 5.4709e-04\n",
            "Epoch 136/150\n",
            "25/25 [==============================] - 0s 2ms/step - loss: 3.2121e-04 - val_loss: 5.3361e-04\n",
            "Epoch 137/150\n",
            "25/25 [==============================] - 0s 2ms/step - loss: 3.1936e-04 - val_loss: 5.1848e-04\n",
            "Epoch 138/150\n",
            "25/25 [==============================] - 0s 2ms/step - loss: 2.8443e-04 - val_loss: 5.0174e-04\n",
            "Epoch 139/150\n",
            "25/25 [==============================] - 0s 2ms/step - loss: 2.8423e-04 - val_loss: 4.6300e-04\n",
            "Epoch 140/150\n",
            "25/25 [==============================] - 0s 2ms/step - loss: 2.7663e-04 - val_loss: 4.4970e-04\n",
            "Epoch 141/150\n",
            "25/25 [==============================] - 0s 2ms/step - loss: 2.5610e-04 - val_loss: 4.2425e-04\n",
            "Epoch 142/150\n",
            "25/25 [==============================] - 0s 2ms/step - loss: 2.4070e-04 - val_loss: 4.2624e-04\n",
            "Epoch 143/150\n",
            "25/25 [==============================] - 0s 2ms/step - loss: 2.2559e-04 - val_loss: 3.8929e-04\n",
            "Epoch 144/150\n",
            "25/25 [==============================] - 0s 2ms/step - loss: 2.2690e-04 - val_loss: 3.7496e-04\n",
            "Epoch 145/150\n",
            "25/25 [==============================] - 0s 2ms/step - loss: 2.0851e-04 - val_loss: 3.8206e-04\n",
            "Epoch 146/150\n",
            "25/25 [==============================] - 0s 3ms/step - loss: 1.9619e-04 - val_loss: 3.9291e-04\n",
            "Epoch 147/150\n",
            "25/25 [==============================] - 0s 2ms/step - loss: 1.8195e-04 - val_loss: 3.5192e-04\n",
            "Epoch 148/150\n",
            "25/25 [==============================] - 0s 2ms/step - loss: 1.7680e-04 - val_loss: 3.1744e-04\n",
            "Epoch 149/150\n",
            "25/25 [==============================] - 0s 2ms/step - loss: 1.6865e-04 - val_loss: 3.1885e-04\n",
            "Epoch 150/150\n",
            "25/25 [==============================] - 0s 2ms/step - loss: 1.6738e-04 - val_loss: 2.9397e-04\n"
          ],
          "name": "stdout"
        }
      ]
    },
    {
      "cell_type": "code",
      "metadata": {
        "id": "QiR1k19dzyak",
        "outputId": "6e69d0f7-7cff-4aca-df63-13bf016e1273",
        "colab": {
          "base_uri": "https://localhost:8080/",
          "height": 204
        }
      },
      "source": [
        "print(['x', 'y', 'expected', 'actual'])\n",
        "print(np.concatenate((data[800:810], data_labels[800:810], model.predict(data[800:810])), axis=1))"
      ],
      "execution_count": null,
      "outputs": [
        {
          "output_type": "stream",
          "text": [
            "['x', 'y', 'expected', 'actual']\n",
            "[[ 12.          84.          96.          95.99134064]\n",
            " [ 84.          19.         103.         103.01068878]\n",
            " [  4.          59.          63.          62.99835968]\n",
            " [ 27.          98.         125.         124.9959259 ]\n",
            " [ 13.           0.          13.          13.03275394]\n",
            " [ 22.           7.          29.          29.01239586]\n",
            " [ 46.          53.          99.          98.99874115]\n",
            " [ 27.          87.         114.         113.99848938]\n",
            " [  6.          31.          37.          37.01805496]\n",
            " [ 84.          31.         115.         114.97537231]]\n"
          ],
          "name": "stdout"
        }
      ]
    },
    {
      "cell_type": "code",
      "metadata": {
        "id": "_wHPRONEGV-L",
        "outputId": "af178c3e-ce76-4dc9-cc7d-342eb189204b",
        "colab": {
          "base_uri": "https://localhost:8080/",
          "height": 295
        }
      },
      "source": [
        "plt.semilogy(fitres.history['loss'])\n",
        "plt.semilogy(fitres.history['val_loss'])\n",
        "plt.title('model loss')\n",
        "plt.ylabel('loss')\n",
        "plt.xlabel('epoch')\n",
        "plt.legend(['train', 'val'], loc='upper right')\n",
        "plt.show()"
      ],
      "execution_count": null,
      "outputs": [
        {
          "output_type": "display_data",
          "data": {
            "image/png": "[encoded data removed]",
            "text/plain": [
              "<Figure size 432x288 with 1 Axes>"
            ]
          },
          "metadata": {
            "tags": [],
            "needs_background": "light"
          }
        }
      ]
    }
  ]
}