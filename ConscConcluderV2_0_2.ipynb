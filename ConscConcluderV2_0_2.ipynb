{
  "nbformat": 4,
  "nbformat_minor": 0,
  "metadata": {
    "colab": {
      "name": "ConscConcluderV2-0.2.ipynb",
      "provenance": [],
      "collapsed_sections": [],
      "toc_visible": true,
      "authorship_tag": "ABX9TyMtf6h6Xuk7yraYIMN64UQF",
      "include_colab_link": true
    },
    "kernelspec": {
      "name": "python3",
      "display_name": "Python 3"
    }
  },
  "cells": [
    {
      "cell_type": "markdown",
      "metadata": {
        "id": "view-in-github",
        "colab_type": "text"
      },
      "source": [
        "<a href=\"https://colab.research.google.com/github/toaomalkster/conscious-calculator-notebooks/blob/feature%2F20201025-load-existing-notebooks/ConscConcluderV2_0_2.ipynb\" target=\"_parent\"><img src=\"https://colab.research.google.com/assets/colab-badge.svg\" alt=\"Open In Colab\"/></a>"
      ]
    },
    {
      "cell_type": "markdown",
      "metadata": {
        "id": "D7LX96lpBYkT"
      },
      "source": [
        "# Conscious Concluder _(Theory V2)_\n",
        "0.2:\n",
        "* Running training loop explicitly."
      ]
    },
    {
      "cell_type": "markdown",
      "metadata": {
        "id": "YL5HKtzQRHWg"
      },
      "source": [
        "**App Boilerplate**"
      ]
    },
    {
      "cell_type": "code",
      "metadata": {
        "id": "9ruY3TtqP1gb",
        "outputId": "d7931501-57d5-4c91-be0d-14a99de1d268",
        "colab": {
          "base_uri": "https://localhost:8080/",
          "height": 34
        }
      },
      "source": [
        "\n",
        "# TensorFlow and tf.keras\n",
        "import tensorflow as tf\n",
        "from tensorflow import keras\n",
        "\n",
        "# Helper libraries\n",
        "import numpy as np\n",
        "import matplotlib.pyplot as plt\n",
        "import time\n",
        "\n",
        "print(tf.__version__)\n"
      ],
      "execution_count": null,
      "outputs": [
        {
          "output_type": "stream",
          "text": [
            "2.3.0\n"
          ],
          "name": "stdout"
        }
      ]
    },
    {
      "cell_type": "markdown",
      "metadata": {
        "id": "OuRO0frKRXNG"
      },
      "source": [
        "# Setup Training Data"
      ]
    },
    {
      "cell_type": "code",
      "metadata": {
        "id": "u9uKG-DgmzBj",
        "outputId": "045d4f54-2474-472b-aec7-474826528f59",
        "colab": {
          "base_uri": "https://localhost:8080/",
          "height": 187
        }
      },
      "source": [
        "data = np.random.randint(100, size=(1000, 2)).astype('float32')\n",
        "data[0:10,:]"
      ],
      "execution_count": null,
      "outputs": [
        {
          "output_type": "execute_result",
          "data": {
            "text/plain": [
              "array([[47., 86.],\n",
              "       [50., 35.],\n",
              "       [ 2., 58.],\n",
              "       [61., 12.],\n",
              "       [71., 10.],\n",
              "       [94., 18.],\n",
              "       [67., 74.],\n",
              "       [ 6., 96.],\n",
              "       [61., 53.],\n",
              "       [ 2., 15.]], dtype=float32)"
            ]
          },
          "metadata": {
            "tags": []
          },
          "execution_count": 27
        }
      ]
    },
    {
      "cell_type": "code",
      "metadata": {
        "id": "8MFPbop0pOxh",
        "outputId": "3057f9de-8891-4d4d-cddc-551bf1eae764",
        "colab": {
          "base_uri": "https://localhost:8080/",
          "height": 187
        }
      },
      "source": [
        "data_labels = (data[:,0] + data[:,1])[:,np.newaxis]\n",
        "data_labels[0:10,:]"
      ],
      "execution_count": null,
      "outputs": [
        {
          "output_type": "execute_result",
          "data": {
            "text/plain": [
              "array([[133.],\n",
              "       [ 85.],\n",
              "       [ 60.],\n",
              "       [ 73.],\n",
              "       [ 81.],\n",
              "       [112.],\n",
              "       [141.],\n",
              "       [102.],\n",
              "       [114.],\n",
              "       [ 17.]], dtype=float32)"
            ]
          },
          "metadata": {
            "tags": []
          },
          "execution_count": 28
        }
      ]
    },
    {
      "cell_type": "markdown",
      "metadata": {
        "id": "zvA_cusOu2oW"
      },
      "source": [
        "# Setup Model"
      ]
    },
    {
      "cell_type": "code",
      "metadata": {
        "id": "s0FP7IDJu_Yy",
        "outputId": "c7ba9f61-a35c-4ca9-8df2-809e42918394",
        "colab": {
          "base_uri": "https://localhost:8080/",
          "height": 221
        }
      },
      "source": [
        "model = keras.Sequential([\n",
        "    keras.layers.InputLayer(input_shape=(2,)),\n",
        "    keras.layers.Dense(1000, activation='relu'),\n",
        "    keras.layers.Dense(1)\n",
        "])\n",
        "model.summary()"
      ],
      "execution_count": null,
      "outputs": [
        {
          "output_type": "stream",
          "text": [
            "Model: \"sequential_6\"\n",
            "_________________________________________________________________\n",
            "Layer (type)                 Output Shape              Param #   \n",
            "=================================================================\n",
            "dense_12 (Dense)             (None, 1000)              3000      \n",
            "_________________________________________________________________\n",
            "dense_13 (Dense)             (None, 1)                 1001      \n",
            "=================================================================\n",
            "Total params: 4,001\n",
            "Trainable params: 4,001\n",
            "Non-trainable params: 0\n",
            "_________________________________________________________________\n"
          ],
          "name": "stdout"
        }
      ]
    },
    {
      "cell_type": "markdown",
      "metadata": {
        "id": "wFw_GfVR8i8n"
      },
      "source": [
        "# Setup Training\n",
        "Running equivalent of:\n",
        "```\n",
        "# fitres = model.fit(data, data_labels, validation_split=0.2, shuffle=True, epochs=150)\n",
        "```"
      ]
    },
    {
      "cell_type": "code",
      "metadata": {
        "id": "x1X6bUtdwsiu"
      },
      "source": [
        "optimizer = tf.keras.optimizers.Adam(2e-4, beta_1=0.5)\n",
        "loss = tf.keras.losses.MeanSquaredError()\n",
        "\n",
        "@tf.function\n",
        "def train_step(step_train_data, step_train_labels):\n",
        "  with tf.GradientTape() as tape:\n",
        "    output = model(step_train_data, training=True)\n",
        "    step_loss = loss(output, step_train_labels)\n",
        "    gradients = tape.gradient(step_loss, model.trainable_variables)\n",
        "    optimizer.apply_gradients(zip(gradients, model.trainable_variables))\n",
        "    return step_loss"
      ],
      "execution_count": null,
      "outputs": []
    },
    {
      "cell_type": "code",
      "metadata": {
        "id": "eK2xIQ3b_AIM"
      },
      "source": [
        "def fit(train_data, train_labels, epochs, batch_size):\n",
        "  res = {}\n",
        "  res['loss'] = []\n",
        "\n",
        "  for epoch in range(epochs):\n",
        "    print ('Epoch: {}/{}'.format(epoch+1, epochs))\n",
        "    start = time.time()\n",
        "    sum_loss = 0\n",
        "\n",
        "    # Train in batches\n",
        "    mx = (int(len(train_data)/batch_size))*batch_size\n",
        "    n  = mx/batch_size\n",
        "    print ('[', end='')\n",
        "    for i in range(0, mx, batch_size):\n",
        "      batch_data   = train_data[i:i+batch_size]\n",
        "      batch_labels = train_labels[i:i+batch_size]\n",
        "      sum_loss += train_step(batch_data, batch_labels)\n",
        "      print ('=', end='')\n",
        "    print('] - {} sec - loss: {}'.format(time.time()-start, sum_loss/n))\n",
        "\n",
        "    # Record history\n",
        "    res['loss'].append(sum_loss/n)\n",
        "\n",
        "  return res"
      ],
      "execution_count": null,
      "outputs": []
    },
    {
      "cell_type": "markdown",
      "metadata": {
        "id": "gJYYVtKz-6b-"
      },
      "source": [
        "# Run Training"
      ]
    },
    {
      "cell_type": "code",
      "metadata": {
        "id": "nLkgvYqGB8wO",
        "outputId": "350d7803-6d91-4e28-e969-f3e8588f976a",
        "colab": {
          "base_uri": "https://localhost:8080/",
          "height": 1000
        }
      },
      "source": [
        "fitres = fit(data, data_labels, 150, 32)"
      ],
      "execution_count": null,
      "outputs": [
        {
          "output_type": "stream",
          "text": [
            "Epoch: 0/150\n",
            "[===============================] - 0.24302434921264648 sec - loss: 9014.7822265625\n",
            "Epoch: 1/150\n",
            "[===============================] - 0.044889211654663086 sec - loss: 5436.7548828125\n",
            "Epoch: 2/150\n",
            "[===============================] - 0.04115724563598633 sec - loss: 2716.255859375\n",
            "Epoch: 3/150\n",
            "[===============================] - 0.0393671989440918 sec - loss: 964.7929077148438\n",
            "Epoch: 4/150\n",
            "[===============================] - 0.04295229911804199 sec - loss: 208.25111389160156\n",
            "Epoch: 5/150\n",
            "[===============================] - 0.04304361343383789 sec - loss: 26.20703125\n",
            "Epoch: 6/150\n",
            "[===============================] - 0.03857612609863281 sec - loss: 2.6785733699798584\n",
            "Epoch: 7/150\n",
            "[===============================] - 0.038747310638427734 sec - loss: 0.8845231533050537\n",
            "Epoch: 8/150\n",
            "[===============================] - 0.03751635551452637 sec - loss: 0.7738689184188843\n",
            "Epoch: 9/150\n",
            "[===============================] - 0.03929924964904785 sec - loss: 0.751897931098938\n",
            "Epoch: 10/150\n",
            "[===============================] - 0.04436850547790527 sec - loss: 0.7347915172576904\n",
            "Epoch: 11/150\n",
            "[===============================] - 0.04403066635131836 sec - loss: 0.71866774559021\n",
            "Epoch: 12/150\n",
            "[===============================] - 0.04102325439453125 sec - loss: 0.7030918598175049\n",
            "Epoch: 13/150\n",
            "[===============================] - 0.03814268112182617 sec - loss: 0.6878706812858582\n",
            "Epoch: 14/150\n",
            "[===============================] - 0.043354034423828125 sec - loss: 0.6728826761245728\n",
            "Epoch: 15/150\n",
            "[===============================] - 0.03798627853393555 sec - loss: 0.6580753922462463\n",
            "Epoch: 16/150\n",
            "[===============================] - 0.04442906379699707 sec - loss: 0.6434299945831299\n",
            "Epoch: 17/150\n",
            "[===============================] - 0.04032135009765625 sec - loss: 0.6289820075035095\n",
            "Epoch: 18/150\n",
            "[===============================] - 0.03943181037902832 sec - loss: 0.6147121787071228\n",
            "Epoch: 19/150\n",
            "[===============================] - 0.043519020080566406 sec - loss: 0.6006004214286804\n",
            "Epoch: 20/150\n",
            "[===============================] - 0.040624380111694336 sec - loss: 0.5866276025772095\n",
            "Epoch: 21/150\n",
            "[===============================] - 0.03986835479736328 sec - loss: 0.5728320479393005\n",
            "Epoch: 22/150\n",
            "[===============================] - 0.03836655616760254 sec - loss: 0.5591943264007568\n",
            "Epoch: 23/150\n",
            "[===============================] - 0.0385892391204834 sec - loss: 0.5457483530044556\n",
            "Epoch: 24/150\n",
            "[===============================] - 0.043921709060668945 sec - loss: 0.532486617565155\n",
            "Epoch: 25/150\n",
            "[===============================] - 0.036530256271362305 sec - loss: 0.5194090008735657\n",
            "Epoch: 26/150\n",
            "[===============================] - 0.03656768798828125 sec - loss: 0.5064988732337952\n",
            "Epoch: 27/150\n",
            "[===============================] - 0.038550615310668945 sec - loss: 0.49372759461402893\n",
            "Epoch: 28/150\n",
            "[===============================] - 0.03516054153442383 sec - loss: 0.4811076819896698\n",
            "Epoch: 29/150\n",
            "[===============================] - 0.043437957763671875 sec - loss: 0.4686846435070038\n",
            "Epoch: 30/150\n",
            "[===============================] - 0.040998220443725586 sec - loss: 0.45645323395729065\n",
            "Epoch: 31/150\n",
            "[===============================] - 0.03542900085449219 sec - loss: 0.44438740611076355\n",
            "Epoch: 32/150\n",
            "[===============================] - 0.03758883476257324 sec - loss: 0.4324713945388794\n",
            "Epoch: 33/150\n",
            "[===============================] - 0.038094520568847656 sec - loss: 0.4207366406917572\n",
            "Epoch: 34/150\n",
            "[===============================] - 0.03726053237915039 sec - loss: 0.40917128324508667\n",
            "Epoch: 35/150\n",
            "[===============================] - 0.04095005989074707 sec - loss: 0.39780423045158386\n",
            "Epoch: 36/150\n",
            "[===============================] - 0.03807210922241211 sec - loss: 0.3866385519504547\n",
            "Epoch: 37/150\n",
            "[===============================] - 0.03580021858215332 sec - loss: 0.3756675124168396\n",
            "Epoch: 38/150\n",
            "[===============================] - 0.0375211238861084 sec - loss: 0.3648967146873474\n",
            "Epoch: 39/150\n",
            "[===============================] - 0.03766989707946777 sec - loss: 0.35435476899147034\n",
            "Epoch: 40/150\n",
            "[===============================] - 0.04355359077453613 sec - loss: 0.3439860939979553\n",
            "Epoch: 41/150\n",
            "[===============================] - 0.03850197792053223 sec - loss: 0.3338158130645752\n",
            "Epoch: 42/150\n",
            "[===============================] - 0.036460161209106445 sec - loss: 0.32382088899612427\n",
            "Epoch: 43/150\n",
            "[===============================] - 0.045271873474121094 sec - loss: 0.3139885663986206\n",
            "Epoch: 44/150\n",
            "[===============================] - 0.04348301887512207 sec - loss: 0.3043287694454193\n",
            "Epoch: 45/150\n",
            "[===============================] - 0.04044008255004883 sec - loss: 0.294831246137619\n",
            "Epoch: 46/150\n",
            "[===============================] - 0.0370330810546875 sec - loss: 0.28549158573150635\n",
            "Epoch: 47/150\n",
            "[===============================] - 0.03823423385620117 sec - loss: 0.27631324529647827\n",
            "Epoch: 48/150\n",
            "[===============================] - 0.039313316345214844 sec - loss: 0.2672975957393646\n",
            "Epoch: 49/150\n",
            "[===============================] - 0.038741111755371094 sec - loss: 0.2584497034549713\n",
            "Epoch: 50/150\n",
            "[===============================] - 0.03974270820617676 sec - loss: 0.24975472688674927\n",
            "Epoch: 51/150\n",
            "[===============================] - 0.037484169006347656 sec - loss: 0.24122391641139984\n",
            "Epoch: 52/150\n",
            "[===============================] - 0.03841543197631836 sec - loss: 0.23285531997680664\n",
            "Epoch: 53/150\n",
            "[===============================] - 0.03713679313659668 sec - loss: 0.2246614396572113\n",
            "Epoch: 54/150\n",
            "[===============================] - 0.04150986671447754 sec - loss: 0.21663282811641693\n",
            "Epoch: 55/150\n",
            "[===============================] - 0.04637956619262695 sec - loss: 0.20876392722129822\n",
            "Epoch: 56/150\n",
            "[===============================] - 0.03948807716369629 sec - loss: 0.20108486711978912\n",
            "Epoch: 57/150\n",
            "[===============================] - 0.039964914321899414 sec - loss: 0.1935928463935852\n",
            "Epoch: 58/150\n",
            "[===============================] - 0.038237571716308594 sec - loss: 0.18631450831890106\n",
            "Epoch: 59/150\n",
            "[===============================] - 0.038811683654785156 sec - loss: 0.17922011017799377\n",
            "Epoch: 60/150\n",
            "[===============================] - 0.04192161560058594 sec - loss: 0.17234817147254944\n",
            "Epoch: 61/150\n",
            "[===============================] - 0.03603005409240723 sec - loss: 0.1656988114118576\n",
            "Epoch: 62/150\n",
            "[===============================] - 0.03605294227600098 sec - loss: 0.1592775136232376\n",
            "Epoch: 63/150\n",
            "[===============================] - 0.03681159019470215 sec - loss: 0.15307673811912537\n",
            "Epoch: 64/150\n",
            "[===============================] - 0.03767871856689453 sec - loss: 0.1470969319343567\n",
            "Epoch: 65/150\n",
            "[===============================] - 0.0447995662689209 sec - loss: 0.1413564682006836\n",
            "Epoch: 66/150\n",
            "[===============================] - 0.04403972625732422 sec - loss: 0.13584455847740173\n",
            "Epoch: 67/150\n",
            "[===============================] - 0.03863859176635742 sec - loss: 0.13055546581745148\n",
            "Epoch: 68/150\n",
            "[===============================] - 0.03730034828186035 sec - loss: 0.12548021972179413\n",
            "Epoch: 69/150\n",
            "[===============================] - 0.03595304489135742 sec - loss: 0.12063097208738327\n",
            "Epoch: 70/150\n",
            "[===============================] - 0.04047369956970215 sec - loss: 0.11600977927446365\n",
            "Epoch: 71/150\n",
            "[===============================] - 0.035759687423706055 sec - loss: 0.11160009354352951\n",
            "Epoch: 72/150\n",
            "[===============================] - 0.038930416107177734 sec - loss: 0.10741207003593445\n",
            "Epoch: 73/150\n",
            "[===============================] - 0.038750648498535156 sec - loss: 0.10343030095100403\n",
            "Epoch: 74/150\n",
            "[===============================] - 0.04018998146057129 sec - loss: 0.09964802861213684\n",
            "Epoch: 75/150\n",
            "[===============================] - 0.0428776741027832 sec - loss: 0.09605677425861359\n",
            "Epoch: 76/150\n",
            "[===============================] - 0.043877601623535156 sec - loss: 0.09265338629484177\n",
            "Epoch: 77/150\n",
            "[===============================] - 0.04057598114013672 sec - loss: 0.08943919837474823\n",
            "Epoch: 78/150\n",
            "[===============================] - 0.03758692741394043 sec - loss: 0.08641508966684341\n",
            "Epoch: 79/150\n",
            "[===============================] - 0.03969693183898926 sec - loss: 0.08355572074651718\n",
            "Epoch: 80/150\n",
            "[===============================] - 0.05243539810180664 sec - loss: 0.0808565765619278\n",
            "Epoch: 81/150\n",
            "[===============================] - 0.03956174850463867 sec - loss: 0.07830285280942917\n",
            "Epoch: 82/150\n",
            "[===============================] - 0.03804969787597656 sec - loss: 0.07588866353034973\n",
            "Epoch: 83/150\n",
            "[===============================] - 0.03886008262634277 sec - loss: 0.07360706478357315\n",
            "Epoch: 84/150\n",
            "[===============================] - 0.036266326904296875 sec - loss: 0.0714481770992279\n",
            "Epoch: 85/150\n",
            "[===============================] - 0.042617082595825195 sec - loss: 0.06940271705389023\n",
            "Epoch: 86/150\n",
            "[===============================] - 0.03705739974975586 sec - loss: 0.06746456772089005\n",
            "Epoch: 87/150\n",
            "[===============================] - 0.04011964797973633 sec - loss: 0.06563004106283188\n",
            "Epoch: 88/150\n",
            "[===============================] - 0.041161298751831055 sec - loss: 0.06388872116804123\n",
            "Epoch: 89/150\n",
            "[===============================] - 0.03784489631652832 sec - loss: 0.06223277747631073\n",
            "Epoch: 90/150\n",
            "[===============================] - 0.04556465148925781 sec - loss: 0.06064455583691597\n",
            "Epoch: 91/150\n",
            "[===============================] - 0.03934335708618164 sec - loss: 0.05912601575255394\n",
            "Epoch: 92/150\n",
            "[===============================] - 0.03929638862609863 sec - loss: 0.0576697438955307\n",
            "Epoch: 93/150\n",
            "[===============================] - 0.038522958755493164 sec - loss: 0.05626387149095535\n",
            "Epoch: 94/150\n",
            "[===============================] - 0.03803539276123047 sec - loss: 0.054917026311159134\n",
            "Epoch: 95/150\n",
            "[===============================] - 0.044446468353271484 sec - loss: 0.05362075939774513\n",
            "Epoch: 96/150\n",
            "[===============================] - 0.03873848915100098 sec - loss: 0.052369385957717896\n",
            "Epoch: 97/150\n",
            "[===============================] - 0.0383303165435791 sec - loss: 0.051154643297195435\n",
            "Epoch: 98/150\n",
            "[===============================] - 0.046196699142456055 sec - loss: 0.04997743293642998\n",
            "Epoch: 99/150\n",
            "[===============================] - 0.04104256629943848 sec - loss: 0.048835061490535736\n",
            "Epoch: 100/150\n",
            "[===============================] - 0.03945755958557129 sec - loss: 0.047729022800922394\n",
            "Epoch: 101/150\n",
            "[===============================] - 0.03710627555847168 sec - loss: 0.046654392033815384\n",
            "Epoch: 102/150\n",
            "[===============================] - 0.03817605972290039 sec - loss: 0.045599229633808136\n",
            "Epoch: 103/150\n",
            "[===============================] - 0.03715252876281738 sec - loss: 0.04456910118460655\n",
            "Epoch: 104/150\n",
            "[===============================] - 0.03699469566345215 sec - loss: 0.04355517774820328\n",
            "Epoch: 105/150\n",
            "[===============================] - 0.04844474792480469 sec - loss: 0.04255860298871994\n",
            "Epoch: 106/150\n",
            "[===============================] - 0.038379669189453125 sec - loss: 0.04157913848757744\n",
            "Epoch: 107/150\n",
            "[===============================] - 0.040093421936035156 sec - loss: 0.040622081607580185\n",
            "Epoch: 108/150\n",
            "[===============================] - 0.04125523567199707 sec - loss: 0.039680223912000656\n",
            "Epoch: 109/150\n",
            "[===============================] - 0.04072737693786621 sec - loss: 0.03875647112727165\n",
            "Epoch: 110/150\n",
            "[===============================] - 0.051110267639160156 sec - loss: 0.03785211592912674\n",
            "Epoch: 111/150\n",
            "[===============================] - 0.039403676986694336 sec - loss: 0.03695980831980705\n",
            "Epoch: 112/150\n",
            "[===============================] - 0.04254913330078125 sec - loss: 0.036076825112104416\n",
            "Epoch: 113/150\n",
            "[===============================] - 0.040740966796875 sec - loss: 0.03520616516470909\n",
            "Epoch: 114/150\n",
            "[===============================] - 0.0446779727935791 sec - loss: 0.034346893429756165\n",
            "Epoch: 115/150\n",
            "[===============================] - 0.04612922668457031 sec - loss: 0.03349833935499191\n",
            "Epoch: 116/150\n",
            "[===============================] - 0.037375688552856445 sec - loss: 0.03266323357820511\n",
            "Epoch: 117/150\n",
            "[===============================] - 0.03961014747619629 sec - loss: 0.031837135553359985\n",
            "Epoch: 118/150\n",
            "[===============================] - 0.03812408447265625 sec - loss: 0.031028512865304947\n",
            "Epoch: 119/150\n",
            "[===============================] - 0.039360761642456055 sec - loss: 0.03023427166044712\n",
            "Epoch: 120/150\n",
            "[===============================] - 0.042973995208740234 sec - loss: 0.029449831694364548\n",
            "Epoch: 121/150\n",
            "[===============================] - 0.03738665580749512 sec - loss: 0.028677983209490776\n",
            "Epoch: 122/150\n",
            "[===============================] - 0.04015207290649414 sec - loss: 0.027916815131902695\n",
            "Epoch: 123/150\n",
            "[===============================] - 0.03748321533203125 sec - loss: 0.027167372405529022\n",
            "Epoch: 124/150\n",
            "[===============================] - 0.04077315330505371 sec - loss: 0.026428956538438797\n",
            "Epoch: 125/150\n",
            "[===============================] - 0.044895172119140625 sec - loss: 0.02570296823978424\n",
            "Epoch: 126/150\n",
            "[===============================] - 0.04170703887939453 sec - loss: 0.024984315037727356\n",
            "Epoch: 127/150\n",
            "[===============================] - 0.03941011428833008 sec - loss: 0.02428077533841133\n",
            "Epoch: 128/150\n",
            "[===============================] - 0.03933525085449219 sec - loss: 0.02358778566122055\n",
            "Epoch: 129/150\n",
            "[===============================] - 0.04237842559814453 sec - loss: 0.0229039303958416\n",
            "Epoch: 130/150\n",
            "[===============================] - 0.03959512710571289 sec - loss: 0.02223409339785576\n",
            "Epoch: 131/150\n",
            "[===============================] - 0.035067081451416016 sec - loss: 0.021576473489403725\n",
            "Epoch: 132/150\n",
            "[===============================] - 0.04273819923400879 sec - loss: 0.020929940044879913\n",
            "Epoch: 133/150\n",
            "[===============================] - 0.038156747817993164 sec - loss: 0.020293960347771645\n",
            "Epoch: 134/150\n",
            "[===============================] - 0.04020977020263672 sec - loss: 0.0196682121604681\n",
            "Epoch: 135/150\n",
            "[===============================] - 0.043852806091308594 sec - loss: 0.019052017480134964\n",
            "Epoch: 136/150\n",
            "[===============================] - 0.03862738609313965 sec - loss: 0.018449153751134872\n",
            "Epoch: 137/150\n",
            "[===============================] - 0.03808474540710449 sec - loss: 0.017859315499663353\n",
            "Epoch: 138/150\n",
            "[===============================] - 0.03836464881896973 sec - loss: 0.017281096428632736\n",
            "Epoch: 139/150\n",
            "[===============================] - 0.03841376304626465 sec - loss: 0.016712184995412827\n",
            "Epoch: 140/150\n",
            "[===============================] - 0.04297447204589844 sec - loss: 0.01615794748067856\n",
            "Epoch: 141/150\n",
            "[===============================] - 0.0378870964050293 sec - loss: 0.015611013397574425\n",
            "Epoch: 142/150\n",
            "[===============================] - 0.03950762748718262 sec - loss: 0.015076637268066406\n",
            "Epoch: 143/150\n",
            "[===============================] - 0.04170823097229004 sec - loss: 0.01455406192690134\n",
            "Epoch: 144/150\n",
            "[===============================] - 0.04295063018798828 sec - loss: 0.014043587259948254\n",
            "Epoch: 145/150\n",
            "[===============================] - 0.03970599174499512 sec - loss: 0.013545534573495388\n",
            "Epoch: 146/150\n",
            "[===============================] - 0.03550910949707031 sec - loss: 0.013059886172413826\n",
            "Epoch: 147/150\n",
            "[===============================] - 0.036783456802368164 sec - loss: 0.01258652564138174\n",
            "Epoch: 148/150\n",
            "[===============================] - 0.03944897651672363 sec - loss: 0.012126314453780651\n",
            "Epoch: 149/150\n",
            "[===============================] - 0.04047036170959473 sec - loss: 0.011676584370434284\n"
          ],
          "name": "stdout"
        }
      ]
    },
    {
      "cell_type": "markdown",
      "metadata": {
        "id": "OqJMre6D-4TJ"
      },
      "source": [
        "# Results"
      ]
    },
    {
      "cell_type": "code",
      "metadata": {
        "id": "QiR1k19dzyak",
        "outputId": "26addde5-6464-4161-9e67-e593da95c29c",
        "colab": {
          "base_uri": "https://localhost:8080/",
          "height": 204
        }
      },
      "source": [
        "print(['x', 'y', 'expected', 'actual'])\n",
        "print(np.concatenate((data[800:810], data_labels[800:810], model.predict(data[800:810])), axis=1))"
      ],
      "execution_count": null,
      "outputs": [
        {
          "output_type": "stream",
          "text": [
            "['x', 'y', 'expected', 'actual']\n",
            "[[ 20.        17.        37.        37.26221 ]\n",
            " [ 58.        51.       109.       109.09388 ]\n",
            " [ 98.        97.       195.       194.89513 ]\n",
            " [ 80.        49.       129.       128.94    ]\n",
            " [ 18.        29.        47.        47.201694]\n",
            " [ 83.        66.       149.       148.99342 ]\n",
            " [ 55.        38.        93.        93.08873 ]\n",
            " [ 63.        88.       151.       150.92436 ]\n",
            " [ 72.         9.        81.        80.96572 ]\n",
            " [ 81.        32.       113.       112.95674 ]]\n"
          ],
          "name": "stdout"
        }
      ]
    },
    {
      "cell_type": "code",
      "metadata": {
        "id": "_wHPRONEGV-L",
        "outputId": "ab5d3538-1eed-402d-d5cf-e095d13ab335",
        "colab": {
          "base_uri": "https://localhost:8080/",
          "height": 295
        }
      },
      "source": [
        "plt.semilogy(fitres['loss'])\n",
        "plt.title('model loss')\n",
        "plt.ylabel('loss')\n",
        "plt.xlabel('epoch')\n",
        "plt.legend(['train'], loc='upper right')\n",
        "plt.show()"
      ],
      "execution_count": null,
      "outputs": [
        {
          "output_type": "display_data",
          "data": {
            "image/png": "[encoded data removed]",
            "text/plain": [
              "<Figure size 432x288 with 1 Axes>"
            ]
          },
          "metadata": {
            "tags": [],
            "needs_background": "light"
          }
        }
      ]
    }
  ]
}